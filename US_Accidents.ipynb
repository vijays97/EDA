{
  "nbformat": 4,
  "nbformat_minor": 0,
  "metadata": {
    "kernelspec": {
      "display_name": "Python 3",
      "language": "python",
      "name": "python3"
    },
    "language_info": {
      "codemirror_mode": {
        "name": "ipython",
        "version": 3
      },
      "file_extension": ".py",
      "mimetype": "text/x-python",
      "name": "python",
      "nbconvert_exporter": "python",
      "pygments_lexer": "ipython3",
      "version": "3.7.6"
    },
    "colab": {
      "name": "US_Accidents.ipynb",
      "provenance": [],
      "collapsed_sections": [
        "a3Ss7eYVCKqp",
        "0rDcHA4y6E-E",
        "FavSeSFqRwAv",
        "f4xF8Cz7S3Qj",
        "Iy922Kb-eQj4",
        "Sukq5J1tenFC",
        "VjHLaQJMgEXj",
        "q7sVTbnwhVS4",
        "p37J1xeXd7jg",
        "AsVFBPsLlJ4B",
        "v5A_39ZglL6G",
        "W4GUF4cQlNpA",
        "ZHM8G2AMrE4s"
      ]
    }
  },
  "cells": [
    {
      "cell_type": "code",
      "metadata": {
        "id": "2mskZgGB5lGk"
      },
      "source": [
        "# Jovian Commit Essentials\n",
        "# Please retain and execute this cell without modifying the contents for `jovian.commit` to work\n",
        "!pip install jovian --upgrade -q\n",
        "import jovian\n",
        "jovian.set_project('us-accidents')\n",
        "jovian.set_colab_id('1RWA9O-F5UV3AZIiomIoU-jURfw_nHLSY')"
      ],
      "execution_count": 7,
      "outputs": []
    },
    {
      "cell_type": "code",
      "metadata": {
        "id": "yPIqJKat5lGw"
      },
      "source": [
        "!pip install jovian --upgrade --quiet\r\n"
      ],
      "execution_count": 8,
      "outputs": []
    },
    {
      "cell_type": "code",
      "metadata": {
        "id": "EiqJ7FH7Ll5g"
      },
      "source": [
        "!pip install opendatasets --upgrade --quiet"
      ],
      "execution_count": 9,
      "outputs": []
    },
    {
      "cell_type": "markdown",
      "metadata": {
        "id": "a3Ss7eYVCKqp"
      },
      "source": [
        "## Download the data\r\n",
        "\r\n",
        "1.   download the data from Kaggle\r\n",
        "2.   or using import opendatasets as od\r\n",
        "      download_url='URL'\r\n",
        "       \r\n",
        "\r\n"
      ]
    },
    {
      "cell_type": "code",
      "metadata": {
        "colab": {
          "base_uri": "https://localhost:8080/"
        },
        "id": "7hB-3xyiDcEi",
        "outputId": "c4c78747-b147-48e4-c1a9-eeac7c90fb9a"
      },
      "source": [
        "import opendatasets as od \r\n",
        "\r\n",
        "download_url ='https://www.kaggle.com/sobhanmoosavi/us-accidents'\r\n",
        "\r\n",
        "od.download(download_url)\r\n"
      ],
      "execution_count": 10,
      "outputs": [
        {
          "output_type": "stream",
          "text": [
            "Please provide your Kaggle credentials to download this dataset. Learn more: http://bit.ly/kaggle-creds\n",
            "Your Kaggle username: vijaysvijju\n",
            "Your Kaggle Key: ··········\n"
          ],
          "name": "stdout"
        },
        {
          "output_type": "stream",
          "text": [
            "  2%|▏         | 5.00M/299M [00:00<00:07, 43.2MB/s]"
          ],
          "name": "stderr"
        },
        {
          "output_type": "stream",
          "text": [
            "Downloading us-accidents.zip to ./us-accidents\n"
          ],
          "name": "stdout"
        },
        {
          "output_type": "stream",
          "text": [
            "100%|██████████| 299M/299M [00:01<00:00, 199MB/s]\n"
          ],
          "name": "stderr"
        },
        {
          "output_type": "stream",
          "text": [
            "\n"
          ],
          "name": "stdout"
        }
      ]
    },
    {
      "cell_type": "code",
      "metadata": {
        "id": "qP3BVFUtEENe"
      },
      "source": [
        "data_filename = './us-accidents/US_Accidents_Dec20.csv'"
      ],
      "execution_count": 11,
      "outputs": []
    },
    {
      "cell_type": "markdown",
      "metadata": {
        "id": "0rDcHA4y6E-E"
      },
      "source": [
        "## Data Preparation and Cleaning\r\n",
        "\r\n",
        "- Load the file\r\n",
        "- look at the info about the file\r\n",
        "- Fix any missing or incorrrect files."
      ]
    },
    {
      "cell_type": "code",
      "metadata": {
        "id": "pQj0uq1K5lGx"
      },
      "source": [
        "import pandas as pd"
      ],
      "execution_count": 12,
      "outputs": []
    },
    {
      "cell_type": "code",
      "metadata": {
        "id": "199hpEMZBasv"
      },
      "source": [
        "df =pd.read_csv(data_filename)\r\n"
      ],
      "execution_count": 13,
      "outputs": []
    },
    {
      "cell_type": "code",
      "metadata": {
        "colab": {
          "base_uri": "https://localhost:8080/"
        },
        "id": "Kge8fvbYBa4K",
        "outputId": "e00c7e45-f892-4f22-b23e-765ff28aa1f7"
      },
      "source": [
        "df.info"
      ],
      "execution_count": 14,
      "outputs": [
        {
          "output_type": "execute_result",
          "data": {
            "text/plain": [
              "<bound method DataFrame.info of                 ID    Source  ...  Nautical_Twilight  Astronomical_Twilight\n",
              "0              A-1  MapQuest  ...              Night                  Night\n",
              "1              A-2  MapQuest  ...              Night                    Day\n",
              "2              A-3  MapQuest  ...                Day                    Day\n",
              "3              A-4  MapQuest  ...                Day                    Day\n",
              "4              A-5  MapQuest  ...                Day                    Day\n",
              "...            ...       ...  ...                ...                    ...\n",
              "4232536  A-4239402      Bing  ...                Day                    Day\n",
              "4232537  A-4239403      Bing  ...                Day                    Day\n",
              "4232538  A-4239404      Bing  ...                Day                    Day\n",
              "4232539  A-4239405      Bing  ...                Day                    Day\n",
              "4232540  A-4239406      Bing  ...                Day                    Day\n",
              "\n",
              "[4232541 rows x 49 columns]>"
            ]
          },
          "metadata": {
            "tags": []
          },
          "execution_count": 14
        }
      ]
    },
    {
      "cell_type": "code",
      "metadata": {
        "colab": {
          "base_uri": "https://localhost:8080/"
        },
        "id": "yQUdMCTfBa6q",
        "outputId": "93920d13-52a0-4e90-ee4f-049775a3a496"
      },
      "source": [
        "df.columns"
      ],
      "execution_count": 15,
      "outputs": [
        {
          "output_type": "execute_result",
          "data": {
            "text/plain": [
              "Index(['ID', 'Source', 'TMC', 'Severity', 'Start_Time', 'End_Time',\n",
              "       'Start_Lat', 'Start_Lng', 'End_Lat', 'End_Lng', 'Distance(mi)',\n",
              "       'Description', 'Number', 'Street', 'Side', 'City', 'County', 'State',\n",
              "       'Zipcode', 'Country', 'Timezone', 'Airport_Code', 'Weather_Timestamp',\n",
              "       'Temperature(F)', 'Wind_Chill(F)', 'Humidity(%)', 'Pressure(in)',\n",
              "       'Visibility(mi)', 'Wind_Direction', 'Wind_Speed(mph)',\n",
              "       'Precipitation(in)', 'Weather_Condition', 'Amenity', 'Bump', 'Crossing',\n",
              "       'Give_Way', 'Junction', 'No_Exit', 'Railway', 'Roundabout', 'Station',\n",
              "       'Stop', 'Traffic_Calming', 'Traffic_Signal', 'Turning_Loop',\n",
              "       'Sunrise_Sunset', 'Civil_Twilight', 'Nautical_Twilight',\n",
              "       'Astronomical_Twilight'],\n",
              "      dtype='object')"
            ]
          },
          "metadata": {
            "tags": []
          },
          "execution_count": 15
        }
      ]
    },
    {
      "cell_type": "code",
      "metadata": {
        "colab": {
          "base_uri": "https://localhost:8080/"
        },
        "id": "WMxmDNiJPPlP",
        "outputId": "fe3642fe-65c1-471e-c669-8a5ffcc6bef0"
      },
      "source": [
        "len(df.columns)"
      ],
      "execution_count": 16,
      "outputs": [
        {
          "output_type": "execute_result",
          "data": {
            "text/plain": [
              "49"
            ]
          },
          "metadata": {
            "tags": []
          },
          "execution_count": 16
        }
      ]
    },
    {
      "cell_type": "code",
      "metadata": {
        "colab": {
          "base_uri": "https://localhost:8080/"
        },
        "id": "FKu5TZvYPPxu",
        "outputId": "6c020920-f761-4ed0-9478-6f4a5f57b141"
      },
      "source": [
        "len(df)"
      ],
      "execution_count": 17,
      "outputs": [
        {
          "output_type": "execute_result",
          "data": {
            "text/plain": [
              "4232541"
            ]
          },
          "metadata": {
            "tags": []
          },
          "execution_count": 17
        }
      ]
    },
    {
      "cell_type": "code",
      "metadata": {
        "colab": {
          "base_uri": "https://localhost:8080/"
        },
        "id": "PIGMU54nBa9a",
        "outputId": "faca540f-49da-45a7-a8f7-2f04aaa62e09"
      },
      "source": [
        "df.info()"
      ],
      "execution_count": 18,
      "outputs": [
        {
          "output_type": "stream",
          "text": [
            "<class 'pandas.core.frame.DataFrame'>\n",
            "RangeIndex: 4232541 entries, 0 to 4232540\n",
            "Data columns (total 49 columns):\n",
            " #   Column                 Dtype  \n",
            "---  ------                 -----  \n",
            " 0   ID                     object \n",
            " 1   Source                 object \n",
            " 2   TMC                    float64\n",
            " 3   Severity               int64  \n",
            " 4   Start_Time             object \n",
            " 5   End_Time               object \n",
            " 6   Start_Lat              float64\n",
            " 7   Start_Lng              float64\n",
            " 8   End_Lat                float64\n",
            " 9   End_Lng                float64\n",
            " 10  Distance(mi)           float64\n",
            " 11  Description            object \n",
            " 12  Number                 float64\n",
            " 13  Street                 object \n",
            " 14  Side                   object \n",
            " 15  City                   object \n",
            " 16  County                 object \n",
            " 17  State                  object \n",
            " 18  Zipcode                object \n",
            " 19  Country                object \n",
            " 20  Timezone               object \n",
            " 21  Airport_Code           object \n",
            " 22  Weather_Timestamp      object \n",
            " 23  Temperature(F)         float64\n",
            " 24  Wind_Chill(F)          float64\n",
            " 25  Humidity(%)            float64\n",
            " 26  Pressure(in)           float64\n",
            " 27  Visibility(mi)         float64\n",
            " 28  Wind_Direction         object \n",
            " 29  Wind_Speed(mph)        float64\n",
            " 30  Precipitation(in)      float64\n",
            " 31  Weather_Condition      object \n",
            " 32  Amenity                bool   \n",
            " 33  Bump                   bool   \n",
            " 34  Crossing               bool   \n",
            " 35  Give_Way               bool   \n",
            " 36  Junction               bool   \n",
            " 37  No_Exit                bool   \n",
            " 38  Railway                bool   \n",
            " 39  Roundabout             bool   \n",
            " 40  Station                bool   \n",
            " 41  Stop                   bool   \n",
            " 42  Traffic_Calming        bool   \n",
            " 43  Traffic_Signal         bool   \n",
            " 44  Turning_Loop           bool   \n",
            " 45  Sunrise_Sunset         object \n",
            " 46  Civil_Twilight         object \n",
            " 47  Nautical_Twilight      object \n",
            " 48  Astronomical_Twilight  object \n",
            "dtypes: bool(13), float64(14), int64(1), object(21)\n",
            "memory usage: 1.2+ GB\n"
          ],
          "name": "stdout"
        }
      ]
    },
    {
      "cell_type": "code",
      "metadata": {
        "colab": {
          "base_uri": "https://localhost:8080/",
          "height": 314
        },
        "id": "vZ5R26VBPq4t",
        "outputId": "64d3ad68-faf6-499f-d637-3c1b5245cb95"
      },
      "source": [
        "df.describe()"
      ],
      "execution_count": 19,
      "outputs": [
        {
          "output_type": "execute_result",
          "data": {
            "text/html": [
              "<div>\n",
              "<style scoped>\n",
              "    .dataframe tbody tr th:only-of-type {\n",
              "        vertical-align: middle;\n",
              "    }\n",
              "\n",
              "    .dataframe tbody tr th {\n",
              "        vertical-align: top;\n",
              "    }\n",
              "\n",
              "    .dataframe thead th {\n",
              "        text-align: right;\n",
              "    }\n",
              "</style>\n",
              "<table border=\"1\" class=\"dataframe\">\n",
              "  <thead>\n",
              "    <tr style=\"text-align: right;\">\n",
              "      <th></th>\n",
              "      <th>TMC</th>\n",
              "      <th>Severity</th>\n",
              "      <th>Start_Lat</th>\n",
              "      <th>Start_Lng</th>\n",
              "      <th>End_Lat</th>\n",
              "      <th>End_Lng</th>\n",
              "      <th>Distance(mi)</th>\n",
              "      <th>Number</th>\n",
              "      <th>Temperature(F)</th>\n",
              "      <th>Wind_Chill(F)</th>\n",
              "      <th>Humidity(%)</th>\n",
              "      <th>Pressure(in)</th>\n",
              "      <th>Visibility(mi)</th>\n",
              "      <th>Wind_Speed(mph)</th>\n",
              "      <th>Precipitation(in)</th>\n",
              "    </tr>\n",
              "  </thead>\n",
              "  <tbody>\n",
              "    <tr>\n",
              "      <th>count</th>\n",
              "      <td>2.716477e+06</td>\n",
              "      <td>4.232541e+06</td>\n",
              "      <td>4.232541e+06</td>\n",
              "      <td>4.232541e+06</td>\n",
              "      <td>1.516064e+06</td>\n",
              "      <td>1.516064e+06</td>\n",
              "      <td>4.232541e+06</td>\n",
              "      <td>1.544592e+06</td>\n",
              "      <td>4.142641e+06</td>\n",
              "      <td>2.336540e+06</td>\n",
              "      <td>4.137074e+06</td>\n",
              "      <td>4.156157e+06</td>\n",
              "      <td>4.133873e+06</td>\n",
              "      <td>3.753215e+06</td>\n",
              "      <td>2.166952e+06</td>\n",
              "    </tr>\n",
              "    <tr>\n",
              "      <th>mean</th>\n",
              "      <td>2.083517e+02</td>\n",
              "      <td>2.305035e+00</td>\n",
              "      <td>3.639782e+01</td>\n",
              "      <td>-9.546420e+01</td>\n",
              "      <td>3.690061e+01</td>\n",
              "      <td>-9.859901e+01</td>\n",
              "      <td>3.357021e-01</td>\n",
              "      <td>6.141507e+03</td>\n",
              "      <td>6.147799e+01</td>\n",
              "      <td>5.489319e+01</td>\n",
              "      <td>6.567422e+01</td>\n",
              "      <td>2.969371e+01</td>\n",
              "      <td>9.111991e+00</td>\n",
              "      <td>7.903433e+00</td>\n",
              "      <td>1.244719e-02</td>\n",
              "    </tr>\n",
              "    <tr>\n",
              "      <th>std</th>\n",
              "      <td>2.124413e+01</td>\n",
              "      <td>5.332261e-01</td>\n",
              "      <td>4.964404e+00</td>\n",
              "      <td>1.735319e+01</td>\n",
              "      <td>5.165629e+00</td>\n",
              "      <td>1.849590e+01</td>\n",
              "      <td>1.602143e+00</td>\n",
              "      <td>1.492268e+04</td>\n",
              "      <td>1.852586e+01</td>\n",
              "      <td>2.272355e+01</td>\n",
              "      <td>2.272342e+01</td>\n",
              "      <td>8.639260e-01</td>\n",
              "      <td>2.817582e+00</td>\n",
              "      <td>5.330998e+00</td>\n",
              "      <td>1.637154e-01</td>\n",
              "    </tr>\n",
              "    <tr>\n",
              "      <th>min</th>\n",
              "      <td>2.000000e+02</td>\n",
              "      <td>1.000000e+00</td>\n",
              "      <td>2.455527e+01</td>\n",
              "      <td>-1.246238e+02</td>\n",
              "      <td>2.457011e+01</td>\n",
              "      <td>-1.244978e+02</td>\n",
              "      <td>0.000000e+00</td>\n",
              "      <td>0.000000e+00</td>\n",
              "      <td>-8.900000e+01</td>\n",
              "      <td>-8.900000e+01</td>\n",
              "      <td>1.000000e+00</td>\n",
              "      <td>0.000000e+00</td>\n",
              "      <td>0.000000e+00</td>\n",
              "      <td>0.000000e+00</td>\n",
              "      <td>0.000000e+00</td>\n",
              "    </tr>\n",
              "    <tr>\n",
              "      <th>25%</th>\n",
              "      <td>2.010000e+02</td>\n",
              "      <td>2.000000e+00</td>\n",
              "      <td>3.352058e+01</td>\n",
              "      <td>-1.173570e+02</td>\n",
              "      <td>3.385420e+01</td>\n",
              "      <td>-1.182077e+02</td>\n",
              "      <td>0.000000e+00</td>\n",
              "      <td>8.980000e+02</td>\n",
              "      <td>4.900000e+01</td>\n",
              "      <td>3.800000e+01</td>\n",
              "      <td>4.900000e+01</td>\n",
              "      <td>2.964000e+01</td>\n",
              "      <td>1.000000e+01</td>\n",
              "      <td>4.600000e+00</td>\n",
              "      <td>0.000000e+00</td>\n",
              "    </tr>\n",
              "    <tr>\n",
              "      <th>50%</th>\n",
              "      <td>2.010000e+02</td>\n",
              "      <td>2.000000e+00</td>\n",
              "      <td>3.582542e+01</td>\n",
              "      <td>-9.002078e+01</td>\n",
              "      <td>3.735134e+01</td>\n",
              "      <td>-9.437987e+01</td>\n",
              "      <td>0.000000e+00</td>\n",
              "      <td>2.890000e+03</td>\n",
              "      <td>6.300000e+01</td>\n",
              "      <td>5.800000e+01</td>\n",
              "      <td>6.800000e+01</td>\n",
              "      <td>2.993000e+01</td>\n",
              "      <td>1.000000e+01</td>\n",
              "      <td>7.000000e+00</td>\n",
              "      <td>0.000000e+00</td>\n",
              "    </tr>\n",
              "    <tr>\n",
              "      <th>75%</th>\n",
              "      <td>2.010000e+02</td>\n",
              "      <td>3.000000e+00</td>\n",
              "      <td>4.018313e+01</td>\n",
              "      <td>-8.084682e+01</td>\n",
              "      <td>4.072593e+01</td>\n",
              "      <td>-8.087449e+01</td>\n",
              "      <td>8.900000e-02</td>\n",
              "      <td>7.330000e+03</td>\n",
              "      <td>7.520000e+01</td>\n",
              "      <td>7.300000e+01</td>\n",
              "      <td>8.500000e+01</td>\n",
              "      <td>3.008000e+01</td>\n",
              "      <td>1.000000e+01</td>\n",
              "      <td>1.040000e+01</td>\n",
              "      <td>0.000000e+00</td>\n",
              "    </tr>\n",
              "    <tr>\n",
              "      <th>max</th>\n",
              "      <td>4.060000e+02</td>\n",
              "      <td>4.000000e+00</td>\n",
              "      <td>4.900220e+01</td>\n",
              "      <td>-6.711317e+01</td>\n",
              "      <td>4.907500e+01</td>\n",
              "      <td>-6.710924e+01</td>\n",
              "      <td>4.417500e+02</td>\n",
              "      <td>9.999997e+06</td>\n",
              "      <td>2.030000e+02</td>\n",
              "      <td>1.890000e+02</td>\n",
              "      <td>1.000000e+02</td>\n",
              "      <td>5.804000e+01</td>\n",
              "      <td>1.400000e+02</td>\n",
              "      <td>9.840000e+02</td>\n",
              "      <td>2.500000e+01</td>\n",
              "    </tr>\n",
              "  </tbody>\n",
              "</table>\n",
              "</div>"
            ],
            "text/plain": [
              "                TMC      Severity  ...  Wind_Speed(mph)  Precipitation(in)\n",
              "count  2.716477e+06  4.232541e+06  ...     3.753215e+06       2.166952e+06\n",
              "mean   2.083517e+02  2.305035e+00  ...     7.903433e+00       1.244719e-02\n",
              "std    2.124413e+01  5.332261e-01  ...     5.330998e+00       1.637154e-01\n",
              "min    2.000000e+02  1.000000e+00  ...     0.000000e+00       0.000000e+00\n",
              "25%    2.010000e+02  2.000000e+00  ...     4.600000e+00       0.000000e+00\n",
              "50%    2.010000e+02  2.000000e+00  ...     7.000000e+00       0.000000e+00\n",
              "75%    2.010000e+02  3.000000e+00  ...     1.040000e+01       0.000000e+00\n",
              "max    4.060000e+02  4.000000e+00  ...     9.840000e+02       2.500000e+01\n",
              "\n",
              "[8 rows x 15 columns]"
            ]
          },
          "metadata": {
            "tags": []
          },
          "execution_count": 19
        }
      ]
    },
    {
      "cell_type": "code",
      "metadata": {
        "id": "ioX-KauhPrEB"
      },
      "source": [
        ""
      ],
      "execution_count": 19,
      "outputs": []
    },
    {
      "cell_type": "markdown",
      "metadata": {
        "id": "Gf-jjlPfBmMy"
      },
      "source": [
        " \r\n",
        "\r\n",
        "\r\n",
        "#  questions\r\n",
        "\r\n",
        "> Indented block\r\n",
        "\r\n",
        "\r\n",
        "- which states have higher no of accidents ? \r\n",
        "- Does Accident occur only in warmer areas or colder areas ?? \r\n",
        "- What is the visibility status during those accidents took place ? \r\n",
        "- Does windspeed have anything to do with these accidents ? \r\n",
        "- accidents per capita ?? \r\n",
        "- does severity change in colder areas ?? \r\n",
        "\r\n",
        "\r\n",
        "\r\n"
      ]
    },
    {
      "cell_type": "markdown",
      "metadata": {
        "id": "FavSeSFqRwAv"
      },
      "source": [
        "# Finding numeric columns in df\r\n"
      ]
    },
    {
      "cell_type": "code",
      "metadata": {
        "colab": {
          "base_uri": "https://localhost:8080/"
        },
        "id": "9D-5Wav3R0Fc",
        "outputId": "7d7bdbcd-0525-48c8-eb31-949c504a1bb0"
      },
      "source": [
        "numerics = ['int16', 'int32', 'int64', 'float16', 'float32', 'float64']\r\n",
        "numeric_df = df.select_dtypes(include=numerics)\r\n",
        "len(numeric_df.columns)"
      ],
      "execution_count": 20,
      "outputs": [
        {
          "output_type": "execute_result",
          "data": {
            "text/plain": [
              "15"
            ]
          },
          "metadata": {
            "tags": []
          },
          "execution_count": 20
        }
      ]
    },
    {
      "cell_type": "markdown",
      "metadata": {
        "id": "AGDAmr_XSFxy"
      },
      "source": [
        "## Missing or Incorrect Values\r\n"
      ]
    },
    {
      "cell_type": "code",
      "metadata": {
        "colab": {
          "base_uri": "https://localhost:8080/"
        },
        "id": "j5p9G1bLB8Sy",
        "outputId": "519b786a-13ba-464b-f243-6b6b55b658f8"
      },
      "source": [
        "df.isnull().sum()"
      ],
      "execution_count": 21,
      "outputs": [
        {
          "output_type": "execute_result",
          "data": {
            "text/plain": [
              "ID                             0\n",
              "Source                         0\n",
              "TMC                      1516064\n",
              "Severity                       0\n",
              "Start_Time                     0\n",
              "End_Time                       0\n",
              "Start_Lat                      0\n",
              "Start_Lng                      0\n",
              "End_Lat                  2716477\n",
              "End_Lng                  2716477\n",
              "Distance(mi)                   0\n",
              "Description                    2\n",
              "Number                   2687949\n",
              "Street                         0\n",
              "Side                           0\n",
              "City                         137\n",
              "County                         0\n",
              "State                          0\n",
              "Zipcode                     1292\n",
              "Country                        0\n",
              "Timezone                    4615\n",
              "Airport_Code                8973\n",
              "Weather_Timestamp          62644\n",
              "Temperature(F)             89900\n",
              "Wind_Chill(F)            1896001\n",
              "Humidity(%)                95467\n",
              "Pressure(in)               76384\n",
              "Visibility(mi)             98668\n",
              "Wind_Direction             83611\n",
              "Wind_Speed(mph)           479326\n",
              "Precipitation(in)        2065589\n",
              "Weather_Condition          98383\n",
              "Amenity                        0\n",
              "Bump                           0\n",
              "Crossing                       0\n",
              "Give_Way                       0\n",
              "Junction                       0\n",
              "No_Exit                        0\n",
              "Railway                        0\n",
              "Roundabout                     0\n",
              "Station                        0\n",
              "Stop                           0\n",
              "Traffic_Calming                0\n",
              "Traffic_Signal                 0\n",
              "Turning_Loop                   0\n",
              "Sunrise_Sunset               141\n",
              "Civil_Twilight               141\n",
              "Nautical_Twilight            141\n",
              "Astronomical_Twilight        141\n",
              "dtype: int64"
            ]
          },
          "metadata": {
            "tags": []
          },
          "execution_count": 21
        }
      ]
    },
    {
      "cell_type": "code",
      "metadata": {
        "colab": {
          "base_uri": "https://localhost:8080/"
        },
        "id": "QbpnDURjB83f",
        "outputId": "d2f26a9e-9ccb-425b-d18b-6cd2bf5024a3"
      },
      "source": [
        "df.isnull().sum().sort_values(ascending=False)"
      ],
      "execution_count": 22,
      "outputs": [
        {
          "output_type": "execute_result",
          "data": {
            "text/plain": [
              "End_Lat                  2716477\n",
              "End_Lng                  2716477\n",
              "Number                   2687949\n",
              "Precipitation(in)        2065589\n",
              "Wind_Chill(F)            1896001\n",
              "TMC                      1516064\n",
              "Wind_Speed(mph)           479326\n",
              "Visibility(mi)             98668\n",
              "Weather_Condition          98383\n",
              "Humidity(%)                95467\n",
              "Temperature(F)             89900\n",
              "Wind_Direction             83611\n",
              "Pressure(in)               76384\n",
              "Weather_Timestamp          62644\n",
              "Airport_Code                8973\n",
              "Timezone                    4615\n",
              "Zipcode                     1292\n",
              "Nautical_Twilight            141\n",
              "Astronomical_Twilight        141\n",
              "Civil_Twilight               141\n",
              "Sunrise_Sunset               141\n",
              "City                         137\n",
              "Description                    2\n",
              "Amenity                        0\n",
              "Street                         0\n",
              "Source                         0\n",
              "Severity                       0\n",
              "Start_Time                     0\n",
              "End_Time                       0\n",
              "Start_Lat                      0\n",
              "Start_Lng                      0\n",
              "Turning_Loop                   0\n",
              "Distance(mi)                   0\n",
              "Traffic_Signal                 0\n",
              "Side                           0\n",
              "Bump                           0\n",
              "County                         0\n",
              "State                          0\n",
              "Traffic_Calming                0\n",
              "Country                        0\n",
              "Stop                           0\n",
              "Station                        0\n",
              "Roundabout                     0\n",
              "Railway                        0\n",
              "No_Exit                        0\n",
              "Junction                       0\n",
              "Give_Way                       0\n",
              "Crossing                       0\n",
              "ID                             0\n",
              "dtype: int64"
            ]
          },
          "metadata": {
            "tags": []
          },
          "execution_count": 22
        }
      ]
    },
    {
      "cell_type": "markdown",
      "metadata": {
        "id": "f4xF8Cz7S3Qj"
      },
      "source": [
        "#  percentage of missing values "
      ]
    },
    {
      "cell_type": "code",
      "metadata": {
        "colab": {
          "base_uri": "https://localhost:8080/"
        },
        "id": "q0tnMvHUSjpx",
        "outputId": "5659bbd6-a3fb-4bf5-b67c-c56e8e5ca570"
      },
      "source": [
        "missing_percentages = df.isnull().sum().sort_values(ascending=False) / len(df)\r\n",
        "missing_percentages"
      ],
      "execution_count": 23,
      "outputs": [
        {
          "output_type": "execute_result",
          "data": {
            "text/plain": [
              "End_Lat                  6.418076e-01\n",
              "End_Lng                  6.418076e-01\n",
              "Number                   6.350674e-01\n",
              "Precipitation(in)        4.880258e-01\n",
              "Wind_Chill(F)            4.479581e-01\n",
              "TMC                      3.581924e-01\n",
              "Wind_Speed(mph)          1.132478e-01\n",
              "Visibility(mi)           2.331176e-02\n",
              "Weather_Condition        2.324443e-02\n",
              "Humidity(%)              2.255548e-02\n",
              "Temperature(F)           2.124020e-02\n",
              "Wind_Direction           1.975433e-02\n",
              "Pressure(in)             1.804684e-02\n",
              "Weather_Timestamp        1.480057e-02\n",
              "Airport_Code             2.120003e-03\n",
              "Timezone                 1.090362e-03\n",
              "Zipcode                  3.052540e-04\n",
              "Nautical_Twilight        3.331332e-05\n",
              "Astronomical_Twilight    3.331332e-05\n",
              "Civil_Twilight           3.331332e-05\n",
              "Sunrise_Sunset           3.331332e-05\n",
              "City                     3.236826e-05\n",
              "Description              4.725294e-07\n",
              "Amenity                  0.000000e+00\n",
              "Street                   0.000000e+00\n",
              "Source                   0.000000e+00\n",
              "Severity                 0.000000e+00\n",
              "Start_Time               0.000000e+00\n",
              "End_Time                 0.000000e+00\n",
              "Start_Lat                0.000000e+00\n",
              "Start_Lng                0.000000e+00\n",
              "Turning_Loop             0.000000e+00\n",
              "Distance(mi)             0.000000e+00\n",
              "Traffic_Signal           0.000000e+00\n",
              "Side                     0.000000e+00\n",
              "Bump                     0.000000e+00\n",
              "County                   0.000000e+00\n",
              "State                    0.000000e+00\n",
              "Traffic_Calming          0.000000e+00\n",
              "Country                  0.000000e+00\n",
              "Stop                     0.000000e+00\n",
              "Station                  0.000000e+00\n",
              "Roundabout               0.000000e+00\n",
              "Railway                  0.000000e+00\n",
              "No_Exit                  0.000000e+00\n",
              "Junction                 0.000000e+00\n",
              "Give_Way                 0.000000e+00\n",
              "Crossing                 0.000000e+00\n",
              "ID                       0.000000e+00\n",
              "dtype: float64"
            ]
          },
          "metadata": {
            "tags": []
          },
          "execution_count": 23
        }
      ]
    },
    {
      "cell_type": "code",
      "metadata": {
        "colab": {
          "base_uri": "https://localhost:8080/",
          "height": 285
        },
        "id": "IjXLTymySjwQ",
        "outputId": "27877f6b-64aa-47ed-dbbf-6068f2f421a5"
      },
      "source": [
        "missing_percentages.plot(kind='barh')"
      ],
      "execution_count": 24,
      "outputs": [
        {
          "output_type": "execute_result",
          "data": {
            "text/plain": [
              "<matplotlib.axes._subplots.AxesSubplot at 0x7feeb21e5810>"
            ]
          },
          "metadata": {
            "tags": []
          },
          "execution_count": 24
        },
        {
          "output_type": "display_data",
          "data": {
            "image/png": "[encoded data removed]",
            "text/plain": [
              "<Figure size 432x288 with 1 Axes>"
            ]
          },
          "metadata": {
            "tags": [],
            "needs_background": "light"
          }
        }
      ]
    },
    {
      "cell_type": "code",
      "metadata": {
        "colab": {
          "base_uri": "https://localhost:8080/",
          "height": 283
        },
        "id": "pYjDo2__Sj4R",
        "outputId": "faae4f09-e319-4c23-83b6-fe4fc0e0e644"
      },
      "source": [
        "missing_percentages[missing_percentages !=0].plot(kind='barh')\r\n"
      ],
      "execution_count": 25,
      "outputs": [
        {
          "output_type": "execute_result",
          "data": {
            "text/plain": [
              "<matplotlib.axes._subplots.AxesSubplot at 0x7feeb18c6210>"
            ]
          },
          "metadata": {
            "tags": []
          },
          "execution_count": 25
        },
        {
          "output_type": "display_data",
          "data": {
            "image/png": "[encoded data removed]",
            "text/plain": [
              "<Figure size 432x288 with 1 Axes>"
            ]
          },
          "metadata": {
            "tags": [],
            "needs_background": "light"
          }
        }
      ]
    },
    {
      "cell_type": "markdown",
      "metadata": {
        "id": "ZsoaLkbjUwoZ"
      },
      "source": [
        "## Exploratory data analysis and Visualisation\r\n",
        "\r\n",
        "Questions\r\n",
        "\r\n",
        "* Are accidents occuring in warmer or colder areas ?    \r\n",
        "* Among top 100 cities , which state do they belong ?? \r\n",
        "\r\n",
        "Columns to analyse \r\n",
        "\r\n",
        "1. City                                    \r\n",
        "2. Start time\r\n",
        "3. Start lat,End Lat\r\n",
        "4. Temperature \r\n",
        "5. Weather Condtion\r\n",
        "6. Windspeed\r\n",
        "7. Visiblity \r\n",
        "\r\n",
        "\r\n",
        "\r\n",
        "---\r\n",
        "Insights gained \r\n",
        "\r\n",
        "*   less than 5% of cities have more than 1000 yearly accidents\r\n",
        "*   \r\n",
        "\r\n",
        "\r\n",
        "\r\n"
      ]
    },
    {
      "cell_type": "code",
      "metadata": {
        "colab": {
          "base_uri": "https://localhost:8080/"
        },
        "id": "afnRh-J_UgBw",
        "outputId": "d5acecfe-dc85-4d2e-a27b-fb7092d934ce"
      },
      "source": [
        "df.columns"
      ],
      "execution_count": 26,
      "outputs": [
        {
          "output_type": "execute_result",
          "data": {
            "text/plain": [
              "Index(['ID', 'Source', 'TMC', 'Severity', 'Start_Time', 'End_Time',\n",
              "       'Start_Lat', 'Start_Lng', 'End_Lat', 'End_Lng', 'Distance(mi)',\n",
              "       'Description', 'Number', 'Street', 'Side', 'City', 'County', 'State',\n",
              "       'Zipcode', 'Country', 'Timezone', 'Airport_Code', 'Weather_Timestamp',\n",
              "       'Temperature(F)', 'Wind_Chill(F)', 'Humidity(%)', 'Pressure(in)',\n",
              "       'Visibility(mi)', 'Wind_Direction', 'Wind_Speed(mph)',\n",
              "       'Precipitation(in)', 'Weather_Condition', 'Amenity', 'Bump', 'Crossing',\n",
              "       'Give_Way', 'Junction', 'No_Exit', 'Railway', 'Roundabout', 'Station',\n",
              "       'Stop', 'Traffic_Calming', 'Traffic_Signal', 'Turning_Loop',\n",
              "       'Sunrise_Sunset', 'Civil_Twilight', 'Nautical_Twilight',\n",
              "       'Astronomical_Twilight'],\n",
              "      dtype='object')"
            ]
          },
          "metadata": {
            "tags": []
          },
          "execution_count": 26
        }
      ]
    },
    {
      "cell_type": "markdown",
      "metadata": {
        "id": "Iy922Kb-eQj4"
      },
      "source": [
        "### Analysis of each Columns\r\n",
        "## City"
      ]
    },
    {
      "cell_type": "code",
      "metadata": {
        "colab": {
          "base_uri": "https://localhost:8080/"
        },
        "id": "TKVI8y4mUgMN",
        "outputId": "3cd99048-a56e-4de5-e21e-c6d6059417cc"
      },
      "source": [
        "df.City"
      ],
      "execution_count": 27,
      "outputs": [
        {
          "output_type": "execute_result",
          "data": {
            "text/plain": [
              "0                Dayton\n",
              "1          Reynoldsburg\n",
              "2          Williamsburg\n",
              "3                Dayton\n",
              "4                Dayton\n",
              "               ...     \n",
              "4232536       Riverside\n",
              "4232537       San Diego\n",
              "4232538          Orange\n",
              "4232539     Culver City\n",
              "4232540        Highland\n",
              "Name: City, Length: 4232541, dtype: object"
            ]
          },
          "metadata": {
            "tags": []
          },
          "execution_count": 27
        }
      ]
    },
    {
      "cell_type": "code",
      "metadata": {
        "colab": {
          "base_uri": "https://localhost:8080/"
        },
        "id": "feigiDE6UkZO",
        "outputId": "20fb0ba0-61f8-4de7-e5dc-17f09c32af1d"
      },
      "source": [
        "Cities=df.City.unique()\r\n",
        "len(Cities)"
      ],
      "execution_count": 28,
      "outputs": [
        {
          "output_type": "execute_result",
          "data": {
            "text/plain": [
              "12251"
            ]
          },
          "metadata": {
            "tags": []
          },
          "execution_count": 28
        }
      ]
    },
    {
      "cell_type": "code",
      "metadata": {
        "colab": {
          "base_uri": "https://localhost:8080/"
        },
        "id": "hHy0P2_MWSBZ",
        "outputId": "6dfb0fc7-d56b-47d3-94ab-95734a7049a4"
      },
      "source": [
        "Cities_by_accident = df.City.value_counts()\r\n",
        "Cities_by_accident"
      ],
      "execution_count": 29,
      "outputs": [
        {
          "output_type": "execute_result",
          "data": {
            "text/plain": [
              "Houston        114905\n",
              "Los Angeles     92701\n",
              "Charlotte       88887\n",
              "Dallas          77303\n",
              "Austin          70538\n",
              "                ...  \n",
              "Happy Creek         1\n",
              "Great Mills         1\n",
              "Otway               1\n",
              "Headrick            1\n",
              "Lewis               1\n",
              "Name: City, Length: 12250, dtype: int64"
            ]
          },
          "metadata": {
            "tags": []
          },
          "execution_count": 29
        }
      ]
    },
    {
      "cell_type": "code",
      "metadata": {
        "colab": {
          "base_uri": "https://localhost:8080/"
        },
        "id": "G9fXpunbWSK7",
        "outputId": "587b3f4a-60ca-4c11-ec62-e5f96993e901"
      },
      "source": [
        "Cities_by_accident[:15]"
      ],
      "execution_count": 30,
      "outputs": [
        {
          "output_type": "execute_result",
          "data": {
            "text/plain": [
              "Houston          114905\n",
              "Los Angeles       92701\n",
              "Charlotte         88887\n",
              "Dallas            77303\n",
              "Austin            70538\n",
              "Miami             63162\n",
              "Raleigh           52876\n",
              "Atlanta           46328\n",
              "Baton Rouge       42814\n",
              "Nashville         41850\n",
              "Orlando           39561\n",
              "Oklahoma City     39484\n",
              "Sacramento        38061\n",
              "Phoenix           32805\n",
              "Minneapolis       31781\n",
              "Name: City, dtype: int64"
            ]
          },
          "metadata": {
            "tags": []
          },
          "execution_count": 30
        }
      ]
    },
    {
      "cell_type": "code",
      "metadata": {
        "colab": {
          "base_uri": "https://localhost:8080/",
          "height": 0
        },
        "id": "PQbZzv5AWSM5",
        "outputId": "6512b1c8-6660-4297-b3d5-8b9177b8618e"
      },
      "source": [
        "Cities_by_accident[:15].plot(kind='barh')"
      ],
      "execution_count": 31,
      "outputs": [
        {
          "output_type": "execute_result",
          "data": {
            "text/plain": [
              "<matplotlib.axes._subplots.AxesSubplot at 0x7feeb189f2d0>"
            ]
          },
          "metadata": {
            "tags": []
          },
          "execution_count": 31
        },
        {
          "output_type": "display_data",
          "data": {
            "image/png": "[encoded data removed]",
            "text/plain": [
              "<Figure size 432x288 with 1 Axes>"
            ]
          },
          "metadata": {
            "tags": [],
            "needs_background": "light"
          }
        }
      ]
    },
    {
      "cell_type": "code",
      "metadata": {
        "id": "3FebohZLaaoc"
      },
      "source": [
        "import seaborn as sns\r\n",
        "import matplotlib.pyplot as plt\r\n",
        "sns.set_style(\"darkgrid\")"
      ],
      "execution_count": 32,
      "outputs": []
    },
    {
      "cell_type": "code",
      "metadata": {
        "colab": {
          "base_uri": "https://localhost:8080/",
          "height": 0
        },
        "id": "HaiFmrPGauWu",
        "outputId": "9696ea28-2b4f-46f9-e590-238eadfe21e5"
      },
      "source": [
        "sns.distplot(Cities_by_accident)"
      ],
      "execution_count": 33,
      "outputs": [
        {
          "output_type": "stream",
          "text": [
            "/usr/local/lib/python3.7/dist-packages/seaborn/distributions.py:2557: FutureWarning: `distplot` is a deprecated function and will be removed in a future version. Please adapt your code to use either `displot` (a figure-level function with similar flexibility) or `histplot` (an axes-level function for histograms).\n",
            "  warnings.warn(msg, FutureWarning)\n"
          ],
          "name": "stderr"
        },
        {
          "output_type": "execute_result",
          "data": {
            "text/plain": [
              "<matplotlib.axes._subplots.AxesSubplot at 0x7feea2a05890>"
            ]
          },
          "metadata": {
            "tags": []
          },
          "execution_count": 33
        },
        {
          "output_type": "display_data",
          "data": {
            "image/png": "[encoded data removed]",
            "text/plain": [
              "<Figure size 432x288 with 1 Axes>"
            ]
          },
          "metadata": {
            "tags": []
          }
        }
      ]
    },
    {
      "cell_type": "code",
      "metadata": {
        "id": "5oLKJTtfaayM"
      },
      "source": [
        "high_accident_cities = Cities_by_accident[Cities_by_accident >=1000]\r\n",
        "low_accident_cities = Cities_by_accident[Cities_by_accident < 1000]"
      ],
      "execution_count": 34,
      "outputs": []
    },
    {
      "cell_type": "code",
      "metadata": {
        "colab": {
          "base_uri": "https://localhost:8080/"
        },
        "id": "H_ooNC03aa6A",
        "outputId": "97ad66df-641c-42f3-a0e0-7dc94adb0909"
      },
      "source": [
        "len(high_accident_cities)"
      ],
      "execution_count": 35,
      "outputs": [
        {
          "output_type": "execute_result",
          "data": {
            "text/plain": [
              "704"
            ]
          },
          "metadata": {
            "tags": []
          },
          "execution_count": 35
        }
      ]
    },
    {
      "cell_type": "code",
      "metadata": {
        "colab": {
          "base_uri": "https://localhost:8080/"
        },
        "id": "4Mhs30jXaa_O",
        "outputId": "41b8a0d8-fbc8-4f9f-f30b-99c66694de10"
      },
      "source": [
        "len(low_accident_cities)"
      ],
      "execution_count": 36,
      "outputs": [
        {
          "output_type": "execute_result",
          "data": {
            "text/plain": [
              "11546"
            ]
          },
          "metadata": {
            "tags": []
          },
          "execution_count": 36
        }
      ]
    },
    {
      "cell_type": "code",
      "metadata": {
        "colab": {
          "base_uri": "https://localhost:8080/",
          "height": 0
        },
        "id": "WCpaf9XMcPnD",
        "outputId": "e01aa27f-ceac-461b-8763-fb371a0e591a"
      },
      "source": [
        "sns.histplot(high_accident_cities,log_scale=True)"
      ],
      "execution_count": 37,
      "outputs": [
        {
          "output_type": "execute_result",
          "data": {
            "text/plain": [
              "<matplotlib.axes._subplots.AxesSubplot at 0x7fee980ac990>"
            ]
          },
          "metadata": {
            "tags": []
          },
          "execution_count": 37
        },
        {
          "output_type": "display_data",
          "data": {
            "image/png": "[encoded data removed]",
            "text/plain": [
              "<Figure size 432x288 with 1 Axes>"
            ]
          },
          "metadata": {
            "tags": []
          }
        }
      ]
    },
    {
      "cell_type": "code",
      "metadata": {
        "colab": {
          "base_uri": "https://localhost:8080/",
          "height": 0
        },
        "id": "S454aNZxcaK6",
        "outputId": "8803a226-a8da-4ec7-b250-670a7d86cd7d"
      },
      "source": [
        "sns.histplot(low_accident_cities,log_scale=True)"
      ],
      "execution_count": 38,
      "outputs": [
        {
          "output_type": "execute_result",
          "data": {
            "text/plain": [
              "<matplotlib.axes._subplots.AxesSubplot at 0x7fee97e934d0>"
            ]
          },
          "metadata": {
            "tags": []
          },
          "execution_count": 38
        },
        {
          "output_type": "display_data",
          "data": {
            "image/png": "[encoded data removed]",
            "text/plain": [
              "<Figure size 432x288 with 1 Axes>"
            ]
          },
          "metadata": {
            "tags": []
          }
        }
      ]
    },
    {
      "cell_type": "markdown",
      "metadata": {
        "id": "fVJIDY7heK-M"
      },
      "source": [
        "## 2.Start_time\r\n",
        "\r\n",
        "1.   What time of the day do accidents occur frequently ?? \r\n",
        "2.   Which days of the week do these accidents occur frequently ?? \r\n",
        "3.   which months have higher no of accidents ?? \r\n",
        "\r\n",
        "\r\n"
      ]
    },
    {
      "cell_type": "code",
      "metadata": {
        "colab": {
          "base_uri": "https://localhost:8080/"
        },
        "id": "9hfroqFkcaix",
        "outputId": "875b0a8c-93a9-4a04-9406-887a72186c6d"
      },
      "source": [
        "df.columns"
      ],
      "execution_count": 39,
      "outputs": [
        {
          "output_type": "execute_result",
          "data": {
            "text/plain": [
              "Index(['ID', 'Source', 'TMC', 'Severity', 'Start_Time', 'End_Time',\n",
              "       'Start_Lat', 'Start_Lng', 'End_Lat', 'End_Lng', 'Distance(mi)',\n",
              "       'Description', 'Number', 'Street', 'Side', 'City', 'County', 'State',\n",
              "       'Zipcode', 'Country', 'Timezone', 'Airport_Code', 'Weather_Timestamp',\n",
              "       'Temperature(F)', 'Wind_Chill(F)', 'Humidity(%)', 'Pressure(in)',\n",
              "       'Visibility(mi)', 'Wind_Direction', 'Wind_Speed(mph)',\n",
              "       'Precipitation(in)', 'Weather_Condition', 'Amenity', 'Bump', 'Crossing',\n",
              "       'Give_Way', 'Junction', 'No_Exit', 'Railway', 'Roundabout', 'Station',\n",
              "       'Stop', 'Traffic_Calming', 'Traffic_Signal', 'Turning_Loop',\n",
              "       'Sunrise_Sunset', 'Civil_Twilight', 'Nautical_Twilight',\n",
              "       'Astronomical_Twilight'],\n",
              "      dtype='object')"
            ]
          },
          "metadata": {
            "tags": []
          },
          "execution_count": 39
        }
      ]
    },
    {
      "cell_type": "code",
      "metadata": {
        "colab": {
          "base_uri": "https://localhost:8080/"
        },
        "id": "3FWyNilVcalo",
        "outputId": "4ad69bc7-4d6c-49d4-a1e8-077ffc0400d5"
      },
      "source": [
        "df.Start_Time"
      ],
      "execution_count": 40,
      "outputs": [
        {
          "output_type": "execute_result",
          "data": {
            "text/plain": [
              "0          2016-02-08 05:46:00\n",
              "1          2016-02-08 06:07:59\n",
              "2          2016-02-08 06:49:27\n",
              "3          2016-02-08 07:23:34\n",
              "4          2016-02-08 07:39:07\n",
              "                  ...         \n",
              "4232536    2019-08-23 18:03:25\n",
              "4232537    2019-08-23 19:11:30\n",
              "4232538    2019-08-23 19:00:21\n",
              "4232539    2019-08-23 19:00:21\n",
              "4232540    2019-08-23 18:52:06\n",
              "Name: Start_Time, Length: 4232541, dtype: object"
            ]
          },
          "metadata": {
            "tags": []
          },
          "execution_count": 40
        }
      ]
    },
    {
      "cell_type": "markdown",
      "metadata": {
        "id": "Sukq5J1tenFC"
      },
      "source": [
        "# convert date to time"
      ]
    },
    {
      "cell_type": "code",
      "metadata": {
        "id": "ghZA9LjWeqmh"
      },
      "source": [
        "df.Start_Time=pd.to_datetime(df.Start_Time)"
      ],
      "execution_count": 41,
      "outputs": []
    },
    {
      "cell_type": "code",
      "metadata": {
        "colab": {
          "base_uri": "https://localhost:8080/"
        },
        "id": "9h6Oik6qe_T7",
        "outputId": "21441a98-bb55-477f-82de-f7e01bb4634d"
      },
      "source": [
        "df.Start_Time[0]"
      ],
      "execution_count": 42,
      "outputs": [
        {
          "output_type": "execute_result",
          "data": {
            "text/plain": [
              "Timestamp('2016-02-08 05:46:00')"
            ]
          },
          "metadata": {
            "tags": []
          },
          "execution_count": 42
        }
      ]
    },
    {
      "cell_type": "markdown",
      "metadata": {
        "id": "VjHLaQJMgEXj"
      },
      "source": [
        "# datepart - to seperate date and hour"
      ]
    },
    {
      "cell_type": "code",
      "metadata": {
        "colab": {
          "base_uri": "https://localhost:8080/"
        },
        "id": "PMl51jodf9_F",
        "outputId": "dd95e76f-15dd-4fca-f8c9-669e94495274"
      },
      "source": [
        "df.Start_Time.dt.hour[:10]"
      ],
      "execution_count": 43,
      "outputs": [
        {
          "output_type": "execute_result",
          "data": {
            "text/plain": [
              "0    5\n",
              "1    6\n",
              "2    6\n",
              "3    7\n",
              "4    7\n",
              "5    7\n",
              "6    7\n",
              "7    7\n",
              "8    8\n",
              "9    8\n",
              "Name: Start_Time, dtype: int64"
            ]
          },
          "metadata": {
            "tags": []
          },
          "execution_count": 43
        }
      ]
    },
    {
      "cell_type": "code",
      "metadata": {
        "colab": {
          "base_uri": "https://localhost:8080/",
          "height": 297
        },
        "id": "74X5g9GBf-JC",
        "outputId": "76661a1d-d4e4-489b-be7b-03766af0f35e"
      },
      "source": [
        "sns.histplot(df.Start_Time.dt.hour,bins=24)"
      ],
      "execution_count": 44,
      "outputs": [
        {
          "output_type": "execute_result",
          "data": {
            "text/plain": [
              "<matplotlib.axes._subplots.AxesSubplot at 0x7fee97d92e50>"
            ]
          },
          "metadata": {
            "tags": []
          },
          "execution_count": 44
        },
        {
          "output_type": "display_data",
          "data": {
            "image/png": "[encoded data removed]",
            "text/plain": [
              "<Figure size 432x288 with 1 Axes>"
            ]
          },
          "metadata": {
            "tags": []
          }
        }
      ]
    },
    {
      "cell_type": "markdown",
      "metadata": {
        "id": "IZgsPGLFaO4d"
      },
      "source": [
        "\r\n",
        "\r\n",
        "*   High % of accidents occur during peak hours \r\n",
        "*   May be due to hurry in getting to work\r\n",
        "\r\n"
      ]
    },
    {
      "cell_type": "markdown",
      "metadata": {
        "id": "q7sVTbnwhVS4"
      },
      "source": [
        "# with Percentages on y axis"
      ]
    },
    {
      "cell_type": "code",
      "metadata": {
        "colab": {
          "base_uri": "https://localhost:8080/",
          "height": 352
        },
        "id": "MGaXyusTf-Ov",
        "outputId": "cb4767ac-0d5c-4394-81c8-6d44bdff1ab0"
      },
      "source": [
        "sns.distplot(df.Start_Time.dt.hour,bins=24, kde=False,norm_hist=True)"
      ],
      "execution_count": 45,
      "outputs": [
        {
          "output_type": "stream",
          "text": [
            "/usr/local/lib/python3.7/dist-packages/seaborn/distributions.py:2557: FutureWarning: `distplot` is a deprecated function and will be removed in a future version. Please adapt your code to use either `displot` (a figure-level function with similar flexibility) or `histplot` (an axes-level function for histograms).\n",
            "  warnings.warn(msg, FutureWarning)\n"
          ],
          "name": "stderr"
        },
        {
          "output_type": "execute_result",
          "data": {
            "text/plain": [
              "<matplotlib.axes._subplots.AxesSubplot at 0x7fee97cf3350>"
            ]
          },
          "metadata": {
            "tags": []
          },
          "execution_count": 45
        },
        {
          "output_type": "display_data",
          "data": {
            "image/png": "[encoded data removed]",
            "text/plain": [
              "<Figure size 432x288 with 1 Axes>"
            ]
          },
          "metadata": {
            "tags": []
          }
        }
      ]
    },
    {
      "cell_type": "code",
      "metadata": {
        "colab": {
          "base_uri": "https://localhost:8080/",
          "height": 352
        },
        "id": "TnEmP1n6ZXfZ",
        "outputId": "c55cddf5-14d7-4a2d-c801-bd832fa57fe3"
      },
      "source": [
        "sns.distplot(df.Start_Time.dt.dayofweek,bins=7, kde=False,norm_hist=True)"
      ],
      "execution_count": 46,
      "outputs": [
        {
          "output_type": "stream",
          "text": [
            "/usr/local/lib/python3.7/dist-packages/seaborn/distributions.py:2557: FutureWarning: `distplot` is a deprecated function and will be removed in a future version. Please adapt your code to use either `displot` (a figure-level function with similar flexibility) or `histplot` (an axes-level function for histograms).\n",
            "  warnings.warn(msg, FutureWarning)\n"
          ],
          "name": "stderr"
        },
        {
          "output_type": "execute_result",
          "data": {
            "text/plain": [
              "<matplotlib.axes._subplots.AxesSubplot at 0x7fee97c24490>"
            ]
          },
          "metadata": {
            "tags": []
          },
          "execution_count": 46
        },
        {
          "output_type": "display_data",
          "data": {
            "image/png": "[encoded data removed]",
            "text/plain": [
              "<Figure size 432x288 with 1 Axes>"
            ]
          },
          "metadata": {
            "tags": []
          }
        }
      ]
    },
    {
      "cell_type": "markdown",
      "metadata": {
        "id": "zO9XGLanZooM"
      },
      "source": [
        "\r\n",
        "\r\n",
        "*   So on weekdays there seems to be more accidents happening.\r\n",
        "*   On weekends there are less people travelling, so less accidents occur.\r\n",
        "\r\n"
      ]
    },
    {
      "cell_type": "code",
      "metadata": {
        "colab": {
          "base_uri": "https://localhost:8080/",
          "height": 352
        },
        "id": "b801NUlyZXmF",
        "outputId": "c1bc1966-c2ba-402e-8550-a9f0b61273d9"
      },
      "source": [
        "sundays_Start_Time=df.Start_Time[df.Start_Time.dt.dayofweek == 6]\r\n",
        "sns.distplot(sundays_Start_Time.dt.hour,bins=24, kde=False,norm_hist=True)"
      ],
      "execution_count": 47,
      "outputs": [
        {
          "output_type": "stream",
          "text": [
            "/usr/local/lib/python3.7/dist-packages/seaborn/distributions.py:2557: FutureWarning: `distplot` is a deprecated function and will be removed in a future version. Please adapt your code to use either `displot` (a figure-level function with similar flexibility) or `histplot` (an axes-level function for histograms).\n",
            "  warnings.warn(msg, FutureWarning)\n"
          ],
          "name": "stderr"
        },
        {
          "output_type": "execute_result",
          "data": {
            "text/plain": [
              "<matplotlib.axes._subplots.AxesSubplot at 0x7fee97c2c650>"
            ]
          },
          "metadata": {
            "tags": []
          },
          "execution_count": 47
        },
        {
          "output_type": "display_data",
          "data": {
            "image/png": "[encoded data removed]",
            "text/plain": [
              "<Figure size 432x288 with 1 Axes>"
            ]
          },
          "metadata": {
            "tags": []
          }
        }
      ]
    },
    {
      "cell_type": "markdown",
      "metadata": {
        "id": "JS-oBXd_brGk"
      },
      "source": [
        "\r\n",
        "\r\n",
        "1.   On Sundays during afternoon hours we see that more % of accidents occur.\r\n",
        "\r\n",
        "\r\n"
      ]
    },
    {
      "cell_type": "code",
      "metadata": {
        "colab": {
          "base_uri": "https://localhost:8080/",
          "height": 353
        },
        "id": "syGI0wKqZXqW",
        "outputId": "825838c9-8710-44b3-a34b-8a36843c7b35"
      },
      "source": [
        "mondays_Start_Time=df.Start_Time[df.Start_Time.dt.dayofweek == 0]\r\n",
        "sns.distplot(mondays_Start_Time.dt.hour,bins=24, kde=False,norm_hist=True)"
      ],
      "execution_count": 48,
      "outputs": [
        {
          "output_type": "stream",
          "text": [
            "/usr/local/lib/python3.7/dist-packages/seaborn/distributions.py:2557: FutureWarning: `distplot` is a deprecated function and will be removed in a future version. Please adapt your code to use either `displot` (a figure-level function with similar flexibility) or `histplot` (an axes-level function for histograms).\n",
            "  warnings.warn(msg, FutureWarning)\n"
          ],
          "name": "stderr"
        },
        {
          "output_type": "execute_result",
          "data": {
            "text/plain": [
              "<matplotlib.axes._subplots.AxesSubplot at 0x7fee97ad5cd0>"
            ]
          },
          "metadata": {
            "tags": []
          },
          "execution_count": 48
        },
        {
          "output_type": "display_data",
          "data": {
            "image/png": "[encoded data removed]",
            "text/plain": [
              "<Figure size 432x288 with 1 Axes>"
            ]
          },
          "metadata": {
            "tags": []
          }
        }
      ]
    },
    {
      "cell_type": "code",
      "metadata": {
        "colab": {
          "base_uri": "https://localhost:8080/",
          "height": 352
        },
        "id": "wlShdk8gcAD8",
        "outputId": "d8785964-f317-4084-b06e-950161ac5737"
      },
      "source": [
        "tuesday_Start_Time=df.Start_Time[df.Start_Time.dt.dayofweek == 1]\r\n",
        "sns.distplot(tuesday_Start_Time.dt.hour,bins=24, kde=False,norm_hist=True)"
      ],
      "execution_count": 49,
      "outputs": [
        {
          "output_type": "stream",
          "text": [
            "/usr/local/lib/python3.7/dist-packages/seaborn/distributions.py:2557: FutureWarning: `distplot` is a deprecated function and will be removed in a future version. Please adapt your code to use either `displot` (a figure-level function with similar flexibility) or `histplot` (an axes-level function for histograms).\n",
            "  warnings.warn(msg, FutureWarning)\n"
          ],
          "name": "stderr"
        },
        {
          "output_type": "execute_result",
          "data": {
            "text/plain": [
              "<matplotlib.axes._subplots.AxesSubplot at 0x7fee97a84f90>"
            ]
          },
          "metadata": {
            "tags": []
          },
          "execution_count": 49
        },
        {
          "output_type": "display_data",
          "data": {
            "image/png": "[encoded data removed]",
            "text/plain": [
              "<Figure size 432x288 with 1 Axes>"
            ]
          },
          "metadata": {
            "tags": []
          }
        }
      ]
    },
    {
      "cell_type": "code",
      "metadata": {
        "colab": {
          "base_uri": "https://localhost:8080/",
          "height": 352
        },
        "id": "eJ9iHlJpcAI4",
        "outputId": "57893881-db3d-45ca-929c-b636a32dac7f"
      },
      "source": [
        "wednesday_Start_Time=df.Start_Time[df.Start_Time.dt.dayofweek == 2]\r\n",
        "sns.distplot(wednesday_Start_Time.dt.hour,bins=24, kde=False,norm_hist=True)"
      ],
      "execution_count": 50,
      "outputs": [
        {
          "output_type": "stream",
          "text": [
            "/usr/local/lib/python3.7/dist-packages/seaborn/distributions.py:2557: FutureWarning: `distplot` is a deprecated function and will be removed in a future version. Please adapt your code to use either `displot` (a figure-level function with similar flexibility) or `histplot` (an axes-level function for histograms).\n",
            "  warnings.warn(msg, FutureWarning)\n"
          ],
          "name": "stderr"
        },
        {
          "output_type": "execute_result",
          "data": {
            "text/plain": [
              "<matplotlib.axes._subplots.AxesSubplot at 0x7fee979a2890>"
            ]
          },
          "metadata": {
            "tags": []
          },
          "execution_count": 50
        },
        {
          "output_type": "display_data",
          "data": {
            "image/png": "[encoded data removed]",
            "text/plain": [
              "<Figure size 432x288 with 1 Axes>"
            ]
          },
          "metadata": {
            "tags": []
          }
        }
      ]
    },
    {
      "cell_type": "code",
      "metadata": {
        "colab": {
          "base_uri": "https://localhost:8080/",
          "height": 352
        },
        "id": "0ZTVG3TrcALX",
        "outputId": "a7d0a8e7-e9ea-4a70-9b9c-1308b1409a56"
      },
      "source": [
        "thurs_Start_Time=df.Start_Time[df.Start_Time.dt.dayofweek == 3]\r\n",
        "sns.distplot(thurs_Start_Time.dt.hour,bins=24, kde=False,norm_hist=True)"
      ],
      "execution_count": 51,
      "outputs": [
        {
          "output_type": "stream",
          "text": [
            "/usr/local/lib/python3.7/dist-packages/seaborn/distributions.py:2557: FutureWarning: `distplot` is a deprecated function and will be removed in a future version. Please adapt your code to use either `displot` (a figure-level function with similar flexibility) or `histplot` (an axes-level function for histograms).\n",
            "  warnings.warn(msg, FutureWarning)\n"
          ],
          "name": "stderr"
        },
        {
          "output_type": "execute_result",
          "data": {
            "text/plain": [
              "<matplotlib.axes._subplots.AxesSubplot at 0x7fee979c7c50>"
            ]
          },
          "metadata": {
            "tags": []
          },
          "execution_count": 51
        },
        {
          "output_type": "display_data",
          "data": {
            "image/png": "[encoded data removed]",
            "text/plain": [
              "<Figure size 432x288 with 1 Axes>"
            ]
          },
          "metadata": {
            "tags": []
          }
        }
      ]
    },
    {
      "cell_type": "code",
      "metadata": {
        "colab": {
          "base_uri": "https://localhost:8080/",
          "height": 352
        },
        "id": "L7Lq9OSqcAOQ",
        "outputId": "2f4aa05d-0b85-4d56-cc2b-380ed4d8d2c5"
      },
      "source": [
        "fri_Start_Time=df.Start_Time[df.Start_Time.dt.dayofweek == 4]\r\n",
        "sns.distplot(fri_Start_Time.dt.hour,bins=24, kde=False,norm_hist=True)"
      ],
      "execution_count": 52,
      "outputs": [
        {
          "output_type": "stream",
          "text": [
            "/usr/local/lib/python3.7/dist-packages/seaborn/distributions.py:2557: FutureWarning: `distplot` is a deprecated function and will be removed in a future version. Please adapt your code to use either `displot` (a figure-level function with similar flexibility) or `histplot` (an axes-level function for histograms).\n",
            "  warnings.warn(msg, FutureWarning)\n"
          ],
          "name": "stderr"
        },
        {
          "output_type": "execute_result",
          "data": {
            "text/plain": [
              "<matplotlib.axes._subplots.AxesSubplot at 0x7fee978cccd0>"
            ]
          },
          "metadata": {
            "tags": []
          },
          "execution_count": 52
        },
        {
          "output_type": "display_data",
          "data": {
            "image/png": "[encoded data removed]",
            "text/plain": [
              "<Figure size 432x288 with 1 Axes>"
            ]
          },
          "metadata": {
            "tags": []
          }
        }
      ]
    },
    {
      "cell_type": "code",
      "metadata": {
        "colab": {
          "base_uri": "https://localhost:8080/",
          "height": 352
        },
        "id": "Eor4M2pBcAQa",
        "outputId": "546b75d0-020f-4a32-e3f4-94b1b56394ce"
      },
      "source": [
        "sat_Start_Time=df.Start_Time[df.Start_Time.dt.dayofweek == 5]\r\n",
        "sns.distplot(sat_Start_Time.dt.hour,bins=24, kde=False,norm_hist=True)"
      ],
      "execution_count": 53,
      "outputs": [
        {
          "output_type": "stream",
          "text": [
            "/usr/local/lib/python3.7/dist-packages/seaborn/distributions.py:2557: FutureWarning: `distplot` is a deprecated function and will be removed in a future version. Please adapt your code to use either `displot` (a figure-level function with similar flexibility) or `histplot` (an axes-level function for histograms).\n",
            "  warnings.warn(msg, FutureWarning)\n"
          ],
          "name": "stderr"
        },
        {
          "output_type": "execute_result",
          "data": {
            "text/plain": [
              "<matplotlib.axes._subplots.AxesSubplot at 0x7fee977a5e90>"
            ]
          },
          "metadata": {
            "tags": []
          },
          "execution_count": 53
        },
        {
          "output_type": "display_data",
          "data": {
            "image/png": "[encoded data removed]",
            "text/plain": [
              "<Figure size 432x288 with 1 Axes>"
            ]
          },
          "metadata": {
            "tags": []
          }
        }
      ]
    },
    {
      "cell_type": "markdown",
      "metadata": {
        "id": "p37J1xeXd7jg"
      },
      "source": [
        "\r\n",
        "\r\n",
        "# For each day corresponding to each month lets see the distribution\r\n",
        "\r\n"
      ]
    },
    {
      "cell_type": "code",
      "metadata": {
        "colab": {
          "base_uri": "https://localhost:8080/",
          "height": 352
        },
        "id": "DBUa-66icASY",
        "outputId": "1f325447-4227-4e3d-e387-0600e4664a7e"
      },
      "source": [
        "\r\n",
        "sns.distplot(mondays_Start_Time.dt.month,bins=12, kde=False,norm_hist=True)"
      ],
      "execution_count": 54,
      "outputs": [
        {
          "output_type": "stream",
          "text": [
            "/usr/local/lib/python3.7/dist-packages/seaborn/distributions.py:2557: FutureWarning: `distplot` is a deprecated function and will be removed in a future version. Please adapt your code to use either `displot` (a figure-level function with similar flexibility) or `histplot` (an axes-level function for histograms).\n",
            "  warnings.warn(msg, FutureWarning)\n"
          ],
          "name": "stderr"
        },
        {
          "output_type": "execute_result",
          "data": {
            "text/plain": [
              "<matplotlib.axes._subplots.AxesSubplot at 0x7fee97d525d0>"
            ]
          },
          "metadata": {
            "tags": []
          },
          "execution_count": 54
        },
        {
          "output_type": "display_data",
          "data": {
            "image/png": "[encoded data removed]",
            "text/plain": [
              "<Figure size 432x288 with 1 Axes>"
            ]
          },
          "metadata": {
            "tags": []
          }
        }
      ]
    },
    {
      "cell_type": "code",
      "metadata": {
        "colab": {
          "base_uri": "https://localhost:8080/",
          "height": 352
        },
        "id": "KJZJXK3KeIz8",
        "outputId": "630fd57c-cc51-4f96-c781-23bcc696a604"
      },
      "source": [
        "sns.distplot(tuesday_Start_Time.dt.month,bins=12, kde=False,norm_hist=True)"
      ],
      "execution_count": 55,
      "outputs": [
        {
          "output_type": "stream",
          "text": [
            "/usr/local/lib/python3.7/dist-packages/seaborn/distributions.py:2557: FutureWarning: `distplot` is a deprecated function and will be removed in a future version. Please adapt your code to use either `displot` (a figure-level function with similar flexibility) or `histplot` (an axes-level function for histograms).\n",
            "  warnings.warn(msg, FutureWarning)\n"
          ],
          "name": "stderr"
        },
        {
          "output_type": "execute_result",
          "data": {
            "text/plain": [
              "<matplotlib.axes._subplots.AxesSubplot at 0x7fee97da5f10>"
            ]
          },
          "metadata": {
            "tags": []
          },
          "execution_count": 55
        },
        {
          "output_type": "display_data",
          "data": {
            "image/png": "[encoded data removed]",
            "text/plain": [
              "<Figure size 432x288 with 1 Axes>"
            ]
          },
          "metadata": {
            "tags": []
          }
        }
      ]
    },
    {
      "cell_type": "code",
      "metadata": {
        "colab": {
          "base_uri": "https://localhost:8080/",
          "height": 352
        },
        "id": "SxhH530deI9O",
        "outputId": "6849b8d3-b5b3-418b-ee41-8625785c13f8"
      },
      "source": [
        "sns.distplot(wednesday_Start_Time.dt.month,bins=12, kde=False,norm_hist=True)"
      ],
      "execution_count": 56,
      "outputs": [
        {
          "output_type": "stream",
          "text": [
            "/usr/local/lib/python3.7/dist-packages/seaborn/distributions.py:2557: FutureWarning: `distplot` is a deprecated function and will be removed in a future version. Please adapt your code to use either `displot` (a figure-level function with similar flexibility) or `histplot` (an axes-level function for histograms).\n",
            "  warnings.warn(msg, FutureWarning)\n"
          ],
          "name": "stderr"
        },
        {
          "output_type": "execute_result",
          "data": {
            "text/plain": [
              "<matplotlib.axes._subplots.AxesSubplot at 0x7fee97692190>"
            ]
          },
          "metadata": {
            "tags": []
          },
          "execution_count": 56
        },
        {
          "output_type": "display_data",
          "data": {
            "image/png": "[encoded data removed]",
            "text/plain": [
              "<Figure size 432x288 with 1 Axes>"
            ]
          },
          "metadata": {
            "tags": []
          }
        }
      ]
    },
    {
      "cell_type": "code",
      "metadata": {
        "colab": {
          "base_uri": "https://localhost:8080/",
          "height": 352
        },
        "id": "IK0yMF39eI_s",
        "outputId": "04090761-bda0-4e5a-f9f9-495717836179"
      },
      "source": [
        "sns.distplot(thurs_Start_Time.dt.month,bins=12, kde=False,norm_hist=True)"
      ],
      "execution_count": 57,
      "outputs": [
        {
          "output_type": "stream",
          "text": [
            "/usr/local/lib/python3.7/dist-packages/seaborn/distributions.py:2557: FutureWarning: `distplot` is a deprecated function and will be removed in a future version. Please adapt your code to use either `displot` (a figure-level function with similar flexibility) or `histplot` (an axes-level function for histograms).\n",
            "  warnings.warn(msg, FutureWarning)\n"
          ],
          "name": "stderr"
        },
        {
          "output_type": "execute_result",
          "data": {
            "text/plain": [
              "<matplotlib.axes._subplots.AxesSubplot at 0x7fee97636050>"
            ]
          },
          "metadata": {
            "tags": []
          },
          "execution_count": 57
        },
        {
          "output_type": "display_data",
          "data": {
            "image/png": "[encoded data removed]",
            "text/plain": [
              "<Figure size 432x288 with 1 Axes>"
            ]
          },
          "metadata": {
            "tags": []
          }
        }
      ]
    },
    {
      "cell_type": "code",
      "metadata": {
        "colab": {
          "base_uri": "https://localhost:8080/",
          "height": 352
        },
        "id": "cKvsCkaBeJCo",
        "outputId": "529fe22c-b208-4173-fe22-01c2d33857bd"
      },
      "source": [
        "sns.distplot(fri_Start_Time.dt.month,bins=12, kde=False,norm_hist=True)"
      ],
      "execution_count": 58,
      "outputs": [
        {
          "output_type": "stream",
          "text": [
            "/usr/local/lib/python3.7/dist-packages/seaborn/distributions.py:2557: FutureWarning: `distplot` is a deprecated function and will be removed in a future version. Please adapt your code to use either `displot` (a figure-level function with similar flexibility) or `histplot` (an axes-level function for histograms).\n",
            "  warnings.warn(msg, FutureWarning)\n"
          ],
          "name": "stderr"
        },
        {
          "output_type": "execute_result",
          "data": {
            "text/plain": [
              "<matplotlib.axes._subplots.AxesSubplot at 0x7fee975bca10>"
            ]
          },
          "metadata": {
            "tags": []
          },
          "execution_count": 58
        },
        {
          "output_type": "display_data",
          "data": {
            "image/png": "[encoded data removed]",
            "text/plain": [
              "<Figure size 432x288 with 1 Axes>"
            ]
          },
          "metadata": {
            "tags": []
          }
        }
      ]
    },
    {
      "cell_type": "code",
      "metadata": {
        "colab": {
          "base_uri": "https://localhost:8080/",
          "height": 352
        },
        "id": "SV3T_ORaeJEu",
        "outputId": "b7b6b061-c47a-4679-b61f-8d3b3295171d"
      },
      "source": [
        "sns.distplot(sat_Start_Time.dt.month,bins=12, kde=False,norm_hist=True)"
      ],
      "execution_count": 59,
      "outputs": [
        {
          "output_type": "stream",
          "text": [
            "/usr/local/lib/python3.7/dist-packages/seaborn/distributions.py:2557: FutureWarning: `distplot` is a deprecated function and will be removed in a future version. Please adapt your code to use either `displot` (a figure-level function with similar flexibility) or `histplot` (an axes-level function for histograms).\n",
            "  warnings.warn(msg, FutureWarning)\n"
          ],
          "name": "stderr"
        },
        {
          "output_type": "execute_result",
          "data": {
            "text/plain": [
              "<matplotlib.axes._subplots.AxesSubplot at 0x7fee975b0d90>"
            ]
          },
          "metadata": {
            "tags": []
          },
          "execution_count": 59
        },
        {
          "output_type": "display_data",
          "data": {
            "image/png": "[encoded data removed]",
            "text/plain": [
              "<Figure size 432x288 with 1 Axes>"
            ]
          },
          "metadata": {
            "tags": []
          }
        }
      ]
    },
    {
      "cell_type": "markdown",
      "metadata": {
        "id": "uhcCvlIej8Hy"
      },
      "source": [
        "## For each year lets see the occurences\\\r\n",
        "# 2016"
      ]
    },
    {
      "cell_type": "code",
      "metadata": {
        "colab": {
          "base_uri": "https://localhost:8080/",
          "height": 352
        },
        "id": "8oBVRN37eJGz",
        "outputId": "197412c8-26ca-412f-8b4a-1d8434eb3850"
      },
      "source": [
        "df_2016 = df[df.Start_Time.dt.year==2016]\r\n",
        "sns.distplot(df_2016.Start_Time.dt.month,bins=12, kde=False,norm_hist=True)"
      ],
      "execution_count": 60,
      "outputs": [
        {
          "output_type": "stream",
          "text": [
            "/usr/local/lib/python3.7/dist-packages/seaborn/distributions.py:2557: FutureWarning: `distplot` is a deprecated function and will be removed in a future version. Please adapt your code to use either `displot` (a figure-level function with similar flexibility) or `histplot` (an axes-level function for histograms).\n",
            "  warnings.warn(msg, FutureWarning)\n"
          ],
          "name": "stderr"
        },
        {
          "output_type": "execute_result",
          "data": {
            "text/plain": [
              "<matplotlib.axes._subplots.AxesSubplot at 0x7fee9744fb50>"
            ]
          },
          "metadata": {
            "tags": []
          },
          "execution_count": 60
        },
        {
          "output_type": "display_data",
          "data": {
            "image/png": "[encoded data removed]",
            "text/plain": [
              "<Figure size 432x288 with 1 Axes>"
            ]
          },
          "metadata": {
            "tags": []
          }
        }
      ]
    },
    {
      "cell_type": "markdown",
      "metadata": {
        "id": "xS-rbMawleMu"
      },
      "source": [
        "\r\n",
        "\r\n",
        "1.   May be data collection was set up during 2016 as we missed out the middle months\r\n",
        "2. missing data in 2016 and some portions of 2017\r\n",
        "\r\n"
      ]
    },
    {
      "cell_type": "markdown",
      "metadata": {
        "id": "AsVFBPsLlJ4B"
      },
      "source": [
        "# 2017"
      ]
    },
    {
      "cell_type": "code",
      "metadata": {
        "colab": {
          "base_uri": "https://localhost:8080/",
          "height": 352
        },
        "id": "MQpbAJpYky1q",
        "outputId": "0a707373-9c19-425a-f50c-dc512aba1740"
      },
      "source": [
        "df_2017 = df[df.Start_Time.dt.year==2017]\r\n",
        "sns.distplot(df_2017.Start_Time.dt.month,bins=12, kde=False,norm_hist=True)"
      ],
      "execution_count": 61,
      "outputs": [
        {
          "output_type": "stream",
          "text": [
            "/usr/local/lib/python3.7/dist-packages/seaborn/distributions.py:2557: FutureWarning: `distplot` is a deprecated function and will be removed in a future version. Please adapt your code to use either `displot` (a figure-level function with similar flexibility) or `histplot` (an axes-level function for histograms).\n",
            "  warnings.warn(msg, FutureWarning)\n"
          ],
          "name": "stderr"
        },
        {
          "output_type": "execute_result",
          "data": {
            "text/plain": [
              "<matplotlib.axes._subplots.AxesSubplot at 0x7fee973dcb50>"
            ]
          },
          "metadata": {
            "tags": []
          },
          "execution_count": 61
        },
        {
          "output_type": "display_data",
          "data": {
            "image/png": "[encoded data removed]",
            "text/plain": [
              "<Figure size 432x288 with 1 Axes>"
            ]
          },
          "metadata": {
            "tags": []
          }
        }
      ]
    },
    {
      "cell_type": "markdown",
      "metadata": {
        "id": "v5A_39ZglL6G"
      },
      "source": [
        "# 2018"
      ]
    },
    {
      "cell_type": "code",
      "metadata": {
        "colab": {
          "base_uri": "https://localhost:8080/",
          "height": 352
        },
        "id": "53XQK3JekzJw",
        "outputId": "ebb99b7d-72d7-4a62-a644-ab20446579ae"
      },
      "source": [
        "df_2018 = df[df.Start_Time.dt.year==2018]\r\n",
        "sns.distplot(df_2018.Start_Time.dt.month,bins=12, kde=False,norm_hist=True)"
      ],
      "execution_count": 62,
      "outputs": [
        {
          "output_type": "stream",
          "text": [
            "/usr/local/lib/python3.7/dist-packages/seaborn/distributions.py:2557: FutureWarning: `distplot` is a deprecated function and will be removed in a future version. Please adapt your code to use either `displot` (a figure-level function with similar flexibility) or `histplot` (an axes-level function for histograms).\n",
            "  warnings.warn(msg, FutureWarning)\n"
          ],
          "name": "stderr"
        },
        {
          "output_type": "execute_result",
          "data": {
            "text/plain": [
              "<matplotlib.axes._subplots.AxesSubplot at 0x7fee973ffa10>"
            ]
          },
          "metadata": {
            "tags": []
          },
          "execution_count": 62
        },
        {
          "output_type": "display_data",
          "data": {
            "image/png": "[encoded data removed]",
            "text/plain": [
              "<Figure size 432x288 with 1 Axes>"
            ]
          },
          "metadata": {
            "tags": []
          }
        }
      ]
    },
    {
      "cell_type": "markdown",
      "metadata": {
        "id": "W4GUF4cQlNpA"
      },
      "source": [
        "# 2019"
      ]
    },
    {
      "cell_type": "code",
      "metadata": {
        "colab": {
          "base_uri": "https://localhost:8080/",
          "height": 352
        },
        "id": "14EEE6OWkzN5",
        "outputId": "acf687c0-3434-44e2-9f19-3b1d03993495"
      },
      "source": [
        "df_2019 = df[df.Start_Time.dt.year==2019]\r\n",
        "sns.distplot(df_2019.Start_Time.dt.month,bins=12, kde=False,norm_hist=True)"
      ],
      "execution_count": 63,
      "outputs": [
        {
          "output_type": "stream",
          "text": [
            "/usr/local/lib/python3.7/dist-packages/seaborn/distributions.py:2557: FutureWarning: `distplot` is a deprecated function and will be removed in a future version. Please adapt your code to use either `displot` (a figure-level function with similar flexibility) or `histplot` (an axes-level function for histograms).\n",
            "  warnings.warn(msg, FutureWarning)\n"
          ],
          "name": "stderr"
        },
        {
          "output_type": "execute_result",
          "data": {
            "text/plain": [
              "<matplotlib.axes._subplots.AxesSubplot at 0x7fee972f6cd0>"
            ]
          },
          "metadata": {
            "tags": []
          },
          "execution_count": 63
        },
        {
          "output_type": "display_data",
          "data": {
            "image/png": "[encoded data removed]",
            "text/plain": [
              "<Figure size 432x288 with 1 Axes>"
            ]
          },
          "metadata": {
            "tags": []
          }
        }
      ]
    },
    {
      "cell_type": "markdown",
      "metadata": {
        "id": "ZHM8G2AMrE4s"
      },
      "source": [
        "# StartLatitude , Start Longitude"
      ]
    },
    {
      "cell_type": "code",
      "metadata": {
        "colab": {
          "base_uri": "https://localhost:8080/"
        },
        "id": "2hWCH_qalPnG",
        "outputId": "c49fb6cf-32ec-4bc5-aeaf-8bb386134e95"
      },
      "source": [
        "df.Start_Lat"
      ],
      "execution_count": 64,
      "outputs": [
        {
          "output_type": "execute_result",
          "data": {
            "text/plain": [
              "0          39.865147\n",
              "1          39.928059\n",
              "2          39.063148\n",
              "3          39.747753\n",
              "4          39.627781\n",
              "             ...    \n",
              "4232536    34.002480\n",
              "4232537    32.766960\n",
              "4232538    33.775450\n",
              "4232539    33.992460\n",
              "4232540    34.133930\n",
              "Name: Start_Lat, Length: 4232541, dtype: float64"
            ]
          },
          "metadata": {
            "tags": []
          },
          "execution_count": 64
        }
      ]
    },
    {
      "cell_type": "code",
      "metadata": {
        "colab": {
          "base_uri": "https://localhost:8080/"
        },
        "id": "yam4umFUlPsP",
        "outputId": "53288ed1-8262-4621-f2ea-054f7d01b86e"
      },
      "source": [
        "df.Start_Lng"
      ],
      "execution_count": 65,
      "outputs": [
        {
          "output_type": "execute_result",
          "data": {
            "text/plain": [
              "0          -84.058723\n",
              "1          -82.831184\n",
              "2          -84.032608\n",
              "3          -84.205582\n",
              "4          -84.188354\n",
              "              ...    \n",
              "4232536   -117.379360\n",
              "4232537   -117.148060\n",
              "4232538   -117.847790\n",
              "4232539   -118.403020\n",
              "4232540   -117.230920\n",
              "Name: Start_Lng, Length: 4232541, dtype: float64"
            ]
          },
          "metadata": {
            "tags": []
          },
          "execution_count": 65
        }
      ]
    },
    {
      "cell_type": "code",
      "metadata": {
        "colab": {
          "base_uri": "https://localhost:8080/",
          "height": 299
        },
        "id": "DoEbJ0KHlPw5",
        "outputId": "54f80976-4638-450e-b4c7-99659b7c5661"
      },
      "source": [
        "sns.scatterplot(x=df.Start_Lng,y=df.Start_Lat)"
      ],
      "execution_count": 66,
      "outputs": [
        {
          "output_type": "execute_result",
          "data": {
            "text/plain": [
              "<matplotlib.axes._subplots.AxesSubplot at 0x7fee972a3ad0>"
            ]
          },
          "metadata": {
            "tags": []
          },
          "execution_count": 66
        },
        {
          "output_type": "display_data",
          "data": {
            "image/png": "[encoded data removed]",
            "text/plain": [
              "<Figure size 432x288 with 1 Axes>"
            ]
          },
          "metadata": {
            "tags": []
          }
        }
      ]
    },
    {
      "cell_type": "markdown",
      "metadata": {
        "id": "Vh7O13BWtEVT"
      },
      "source": [
        "### sample df with reduced point size"
      ]
    },
    {
      "cell_type": "code",
      "metadata": {
        "id": "k8nmvvRQtIvV"
      },
      "source": [
        "sample_df=df.sample(int(0.1 * len(df)))"
      ],
      "execution_count": 67,
      "outputs": []
    },
    {
      "cell_type": "code",
      "metadata": {
        "colab": {
          "base_uri": "https://localhost:8080/",
          "height": 299
        },
        "id": "EmTJBIKFtRsV",
        "outputId": "b97d9b35-0670-4fa1-96b4-325ab7a84c20"
      },
      "source": [
        "sns.scatterplot(x=sample_df.Start_Lng,y=sample_df.Start_Lat,size = 0.0001)"
      ],
      "execution_count": 68,
      "outputs": [
        {
          "output_type": "execute_result",
          "data": {
            "text/plain": [
              "<matplotlib.axes._subplots.AxesSubplot at 0x7fee97234050>"
            ]
          },
          "metadata": {
            "tags": []
          },
          "execution_count": 68
        },
        {
          "output_type": "display_data",
          "data": {
            "image/png": "[encoded data removed]",
            "text/plain": [
              "<Figure size 432x288 with 1 Axes>"
            ]
          },
          "metadata": {
            "tags": []
          }
        }
      ]
    },
    {
      "cell_type": "code",
      "metadata": {
        "id": "yDPEHAgHuOEY"
      },
      "source": [
        "import folium"
      ],
      "execution_count": 69,
      "outputs": []
    },
    {
      "cell_type": "markdown",
      "metadata": {
        "id": "Vp4Qw5m9uSu-"
      },
      "source": [
        "\r\n",
        "\r\n",
        "1.   Folium is a Python library used for visualizing geospatial data\r\n",
        "2.   excellent tool for plotting maps\r\n",
        "\r\n",
        "\r\n",
        "\r\n",
        "\r\n"
      ]
    },
    {
      "cell_type": "code",
      "metadata": {
        "id": "6a9RLFQJu7nK"
      },
      "source": [
        "folium.Map()"
      ],
      "execution_count": null,
      "outputs": []
    },
    {
      "cell_type": "code",
      "metadata": {
        "colab": {
          "base_uri": "https://localhost:8080/"
        },
        "id": "YdR_nfthv4i4",
        "outputId": "8650c509-207b-4a5c-e8cc-8b8b5ca598f2"
      },
      "source": [
        "lat,lon = df.Start_Lat[0],df.Start_Lng[0]\r\n",
        "lat,lon"
      ],
      "execution_count": 71,
      "outputs": [
        {
          "output_type": "execute_result",
          "data": {
            "text/plain": [
              "(39.865147, -84.058723)"
            ]
          },
          "metadata": {
            "tags": []
          },
          "execution_count": 71
        }
      ]
    },
    {
      "cell_type": "code",
      "metadata": {
        "id": "3_8qfUczuf_z",
        "colab": {
          "base_uri": "https://localhost:8080/",
          "height": 712
        },
        "outputId": "e1b3abe0-a25c-417b-fcc1-2301baea8849"
      },
      "source": [
        "map = folium.Map()\r\n",
        "marker = folium.Marker((lat, lon))\r\n",
        "marker.add_to(map)\r\n",
        "map"
      ],
      "execution_count": 72,
      "outputs": [
        {
          "output_type": "execute_result",
          "data": {
            "text/html": [
              "<div style=\"width:100%;\"><div style=\"position:relative;width:100%;height:0;padding-bottom:60%;\"><span style=\"color:#565656\">Make this Notebook Trusted to load map: File -> Trust Notebook</span><iframe src=\"about:blank\" style=\"position:absolute;width:100%;height:100%;left:0;top:0;border:none !important;\" data-html=%3C%21DOCTYPE%20html%3E%0A%3Chead%3E%20%20%20%20%0A%20%20%20%20%3Cmeta%20http-equiv%3D%22content-type%22%20content%3D%22text/html%3B%20charset%3DUTF-8%22%20/%3E%0A%20%20%20%20%3Cscript%3EL_PREFER_CANVAS%3Dfalse%3B%20L_NO_TOUCH%3Dfalse%3B%20L_DISABLE_3D%3Dfalse%3B%3C/script%3E%0A%20%20%20%20%3Cscript%20src%3D%22https%3A//cdn.jsdelivr.net/npm/leaflet%401.4.0/dist/leaflet.js%22%3E%3C/script%3E%0A%20%20%20%20%3Cscript%20src%3D%22https%3A//code.jquery.com/jquery-1.12.4.min.js%22%3E%3C/script%3E%0A%20%20%20%20%3Cscript%20src%3D%22https%3A//maxcdn.bootstrapcdn.com/bootstrap/3.2.0/js/bootstrap.min.js%22%3E%3C/script%3E%0A%20%20%20%20%3Cscript%20src%3D%22https%3A//cdnjs.cloudflare.com/ajax/libs/Leaflet.awesome-markers/2.0.2/leaflet.awesome-markers.js%22%3E%3C/script%3E%0A%20%20%20%20%3Clink%20rel%3D%22stylesheet%22%20href%3D%22https%3A//cdn.jsdelivr.net/npm/leaflet%401.4.0/dist/leaflet.css%22/%3E%0A%20%20%20%20%3Clink%20rel%3D%22stylesheet%22%20href%3D%22https%3A//maxcdn.bootstrapcdn.com/bootstrap/3.2.0/css/bootstrap.min.css%22/%3E%0A%20%20%20%20%3Clink%20rel%3D%22stylesheet%22%20href%3D%22https%3A//maxcdn.bootstrapcdn.com/bootstrap/3.2.0/css/bootstrap-theme.min.css%22/%3E%0A%20%20%20%20%3Clink%20rel%3D%22stylesheet%22%20href%3D%22https%3A//maxcdn.bootstrapcdn.com/font-awesome/4.6.3/css/font-awesome.min.css%22/%3E%0A%20%20%20%20%3Clink%20rel%3D%22stylesheet%22%20href%3D%22https%3A//cdnjs.cloudflare.com/ajax/libs/Leaflet.awesome-markers/2.0.2/leaflet.awesome-markers.css%22/%3E%0A%20%20%20%20%3Clink%20rel%3D%22stylesheet%22%20href%3D%22https%3A//rawcdn.githack.com/python-visualization/folium/master/folium/templates/leaflet.awesome.rotate.css%22/%3E%0A%20%20%20%20%3Cstyle%3Ehtml%2C%20body%20%7Bwidth%3A%20100%25%3Bheight%3A%20100%25%3Bmargin%3A%200%3Bpadding%3A%200%3B%7D%3C/style%3E%0A%20%20%20%20%3Cstyle%3E%23map%20%7Bposition%3Aabsolute%3Btop%3A0%3Bbottom%3A0%3Bright%3A0%3Bleft%3A0%3B%7D%3C/style%3E%0A%20%20%20%20%0A%20%20%20%20%3Cmeta%20name%3D%22viewport%22%20content%3D%22width%3Ddevice-width%2C%0A%20%20%20%20%20%20%20%20initial-scale%3D1.0%2C%20maximum-scale%3D1.0%2C%20user-scalable%3Dno%22%20/%3E%0A%20%20%20%20%3Cstyle%3E%23map_4b247724e4b944cbb7b5fe6b2345fe44%20%7B%0A%20%20%20%20%20%20%20%20position%3A%20relative%3B%0A%20%20%20%20%20%20%20%20width%3A%20100.0%25%3B%0A%20%20%20%20%20%20%20%20height%3A%20100.0%25%3B%0A%20%20%20%20%20%20%20%20left%3A%200.0%25%3B%0A%20%20%20%20%20%20%20%20top%3A%200.0%25%3B%0A%20%20%20%20%20%20%20%20%7D%0A%20%20%20%20%3C/style%3E%0A%3C/head%3E%0A%3Cbody%3E%20%20%20%20%0A%20%20%20%20%0A%20%20%20%20%3Cdiv%20class%3D%22folium-map%22%20id%3D%22map_4b247724e4b944cbb7b5fe6b2345fe44%22%20%3E%3C/div%3E%0A%3C/body%3E%0A%3Cscript%3E%20%20%20%20%0A%20%20%20%20%0A%20%20%20%20%0A%20%20%20%20%20%20%20%20var%20bounds%20%3D%20null%3B%0A%20%20%20%20%0A%0A%20%20%20%20var%20map_4b247724e4b944cbb7b5fe6b2345fe44%20%3D%20L.map%28%0A%20%20%20%20%20%20%20%20%27map_4b247724e4b944cbb7b5fe6b2345fe44%27%2C%20%7B%0A%20%20%20%20%20%20%20%20center%3A%20%5B0%2C%200%5D%2C%0A%20%20%20%20%20%20%20%20zoom%3A%201%2C%0A%20%20%20%20%20%20%20%20maxBounds%3A%20bounds%2C%0A%20%20%20%20%20%20%20%20layers%3A%20%5B%5D%2C%0A%20%20%20%20%20%20%20%20worldCopyJump%3A%20false%2C%0A%20%20%20%20%20%20%20%20crs%3A%20L.CRS.EPSG3857%2C%0A%20%20%20%20%20%20%20%20zoomControl%3A%20true%2C%0A%20%20%20%20%20%20%20%20%7D%29%3B%0A%0A%0A%20%20%20%20%0A%20%20%20%20var%20tile_layer_b019362f042247aa8745e9d5e13496ed%20%3D%20L.tileLayer%28%0A%20%20%20%20%20%20%20%20%27https%3A//%7Bs%7D.tile.openstreetmap.org/%7Bz%7D/%7Bx%7D/%7By%7D.png%27%2C%0A%20%20%20%20%20%20%20%20%7B%0A%20%20%20%20%20%20%20%20%22attribution%22%3A%20null%2C%0A%20%20%20%20%20%20%20%20%22detectRetina%22%3A%20false%2C%0A%20%20%20%20%20%20%20%20%22maxNativeZoom%22%3A%2018%2C%0A%20%20%20%20%20%20%20%20%22maxZoom%22%3A%2018%2C%0A%20%20%20%20%20%20%20%20%22minZoom%22%3A%200%2C%0A%20%20%20%20%20%20%20%20%22noWrap%22%3A%20false%2C%0A%20%20%20%20%20%20%20%20%22opacity%22%3A%201%2C%0A%20%20%20%20%20%20%20%20%22subdomains%22%3A%20%22abc%22%2C%0A%20%20%20%20%20%20%20%20%22tms%22%3A%20false%0A%7D%29.addTo%28map_4b247724e4b944cbb7b5fe6b2345fe44%29%3B%0A%20%20%20%20%0A%20%20%20%20%20%20%20%20var%20marker_fdc919b159764d65a1e00fb242c9da1c%20%3D%20L.marker%28%0A%20%20%20%20%20%20%20%20%20%20%20%20%5B39.865147%2C%20-84.058723%5D%2C%0A%20%20%20%20%20%20%20%20%20%20%20%20%7B%0A%20%20%20%20%20%20%20%20%20%20%20%20%20%20%20%20icon%3A%20new%20L.Icon.Default%28%29%2C%0A%20%20%20%20%20%20%20%20%20%20%20%20%20%20%20%20%7D%0A%20%20%20%20%20%20%20%20%20%20%20%20%29.addTo%28map_4b247724e4b944cbb7b5fe6b2345fe44%29%3B%0A%20%20%20%20%20%20%20%20%0A%3C/script%3E onload=\"this.contentDocument.open();this.contentDocument.write(    decodeURIComponent(this.getAttribute('data-html')));this.contentDocument.close();\" allowfullscreen webkitallowfullscreen mozallowfullscreen></iframe></div></div>"
            ],
            "text/plain": [
              "<folium.folium.Map at 0x7fee9595f710>"
            ]
          },
          "metadata": {
            "tags": []
          },
          "execution_count": 72
        }
      ]
    },
    {
      "cell_type": "code",
      "metadata": {
        "id": "GR2fx3TrugCf"
      },
      "source": [
        " from folium import plugins\r\n",
        "from folium.plugins import HeatMap"
      ],
      "execution_count": 73,
      "outputs": []
    },
    {
      "cell_type": "code",
      "metadata": {
        "colab": {
          "base_uri": "https://localhost:8080/",
          "height": 990
        },
        "id": "ItPcC3vOXw7d",
        "outputId": "670d3750-285e-4ce4-f7ab-d27d2f59e2f6"
      },
      "source": [
        "sample_df = df.sample(int(0.0001 * len(df)))\r\n",
        "lat_lon_pairs = zip(list(sample_df.Start_Lat),list(sample_df.Start_Lng))\r\n",
        "sample_df"
      ],
      "execution_count": 79,
      "outputs": [
        {
          "output_type": "execute_result",
          "data": {
            "text/html": [
              "<div>\n",
              "<style scoped>\n",
              "    .dataframe tbody tr th:only-of-type {\n",
              "        vertical-align: middle;\n",
              "    }\n",
              "\n",
              "    .dataframe tbody tr th {\n",
              "        vertical-align: top;\n",
              "    }\n",
              "\n",
              "    .dataframe thead th {\n",
              "        text-align: right;\n",
              "    }\n",
              "</style>\n",
              "<table border=\"1\" class=\"dataframe\">\n",
              "  <thead>\n",
              "    <tr style=\"text-align: right;\">\n",
              "      <th></th>\n",
              "      <th>ID</th>\n",
              "      <th>Source</th>\n",
              "      <th>TMC</th>\n",
              "      <th>Severity</th>\n",
              "      <th>Start_Time</th>\n",
              "      <th>End_Time</th>\n",
              "      <th>Start_Lat</th>\n",
              "      <th>Start_Lng</th>\n",
              "      <th>End_Lat</th>\n",
              "      <th>End_Lng</th>\n",
              "      <th>Distance(mi)</th>\n",
              "      <th>Description</th>\n",
              "      <th>Number</th>\n",
              "      <th>Street</th>\n",
              "      <th>Side</th>\n",
              "      <th>City</th>\n",
              "      <th>County</th>\n",
              "      <th>State</th>\n",
              "      <th>Zipcode</th>\n",
              "      <th>Country</th>\n",
              "      <th>Timezone</th>\n",
              "      <th>Airport_Code</th>\n",
              "      <th>Weather_Timestamp</th>\n",
              "      <th>Temperature(F)</th>\n",
              "      <th>Wind_Chill(F)</th>\n",
              "      <th>Humidity(%)</th>\n",
              "      <th>Pressure(in)</th>\n",
              "      <th>Visibility(mi)</th>\n",
              "      <th>Wind_Direction</th>\n",
              "      <th>Wind_Speed(mph)</th>\n",
              "      <th>Precipitation(in)</th>\n",
              "      <th>Weather_Condition</th>\n",
              "      <th>Amenity</th>\n",
              "      <th>Bump</th>\n",
              "      <th>Crossing</th>\n",
              "      <th>Give_Way</th>\n",
              "      <th>Junction</th>\n",
              "      <th>No_Exit</th>\n",
              "      <th>Railway</th>\n",
              "      <th>Roundabout</th>\n",
              "      <th>Station</th>\n",
              "      <th>Stop</th>\n",
              "      <th>Traffic_Calming</th>\n",
              "      <th>Traffic_Signal</th>\n",
              "      <th>Turning_Loop</th>\n",
              "      <th>Sunrise_Sunset</th>\n",
              "      <th>Civil_Twilight</th>\n",
              "      <th>Nautical_Twilight</th>\n",
              "      <th>Astronomical_Twilight</th>\n",
              "    </tr>\n",
              "  </thead>\n",
              "  <tbody>\n",
              "    <tr>\n",
              "      <th>1201328</th>\n",
              "      <td>A-1201431</td>\n",
              "      <td>MapQuest</td>\n",
              "      <td>201.0</td>\n",
              "      <td>2</td>\n",
              "      <td>2019-09-06 12:33:12</td>\n",
              "      <td>2019-09-06 13:22:37</td>\n",
              "      <td>30.404560</td>\n",
              "      <td>-91.183723</td>\n",
              "      <td>NaN</td>\n",
              "      <td>NaN</td>\n",
              "      <td>0.000</td>\n",
              "      <td>Accident on LA-42 Burbank Dr at Gourrier Ave.</td>\n",
              "      <td>2201.0</td>\n",
              "      <td>Gourrier Ave</td>\n",
              "      <td>L</td>\n",
              "      <td>Baton Rouge</td>\n",
              "      <td>East Baton Rouge</td>\n",
              "      <td>LA</td>\n",
              "      <td>70820-3329</td>\n",
              "      <td>US</td>\n",
              "      <td>US/Central</td>\n",
              "      <td>KBTR</td>\n",
              "      <td>2019-09-06 12:53:00</td>\n",
              "      <td>96.0</td>\n",
              "      <td>96.0</td>\n",
              "      <td>46.0</td>\n",
              "      <td>29.95</td>\n",
              "      <td>10.0</td>\n",
              "      <td>NW</td>\n",
              "      <td>7.0</td>\n",
              "      <td>0.00</td>\n",
              "      <td>Fair</td>\n",
              "      <td>False</td>\n",
              "      <td>False</td>\n",
              "      <td>True</td>\n",
              "      <td>False</td>\n",
              "      <td>False</td>\n",
              "      <td>False</td>\n",
              "      <td>False</td>\n",
              "      <td>False</td>\n",
              "      <td>False</td>\n",
              "      <td>False</td>\n",
              "      <td>False</td>\n",
              "      <td>False</td>\n",
              "      <td>False</td>\n",
              "      <td>Day</td>\n",
              "      <td>Day</td>\n",
              "      <td>Day</td>\n",
              "      <td>Day</td>\n",
              "    </tr>\n",
              "    <tr>\n",
              "      <th>3149790</th>\n",
              "      <td>A-3152716</td>\n",
              "      <td>Bing</td>\n",
              "      <td>NaN</td>\n",
              "      <td>2</td>\n",
              "      <td>2020-11-11 23:58:00</td>\n",
              "      <td>2020-11-12 01:41:00</td>\n",
              "      <td>48.166513</td>\n",
              "      <td>-98.984021</td>\n",
              "      <td>48.165160</td>\n",
              "      <td>-98.976625</td>\n",
              "      <td>0.353</td>\n",
              "      <td>Stationary traffic on US-2 E from 66th Ave (US...</td>\n",
              "      <td>7598.0</td>\n",
              "      <td>Highway 2</td>\n",
              "      <td>R</td>\n",
              "      <td>Devils Lake</td>\n",
              "      <td>Ramsey</td>\n",
              "      <td>ND</td>\n",
              "      <td>58301-8805</td>\n",
              "      <td>US</td>\n",
              "      <td>US/Central</td>\n",
              "      <td>KDVL</td>\n",
              "      <td>2020-11-11 23:56:00</td>\n",
              "      <td>19.0</td>\n",
              "      <td>2.0</td>\n",
              "      <td>85.0</td>\n",
              "      <td>28.30</td>\n",
              "      <td>7.0</td>\n",
              "      <td>WNW</td>\n",
              "      <td>23.0</td>\n",
              "      <td>0.00</td>\n",
              "      <td>Light Snow / Windy</td>\n",
              "      <td>False</td>\n",
              "      <td>False</td>\n",
              "      <td>False</td>\n",
              "      <td>False</td>\n",
              "      <td>False</td>\n",
              "      <td>False</td>\n",
              "      <td>False</td>\n",
              "      <td>False</td>\n",
              "      <td>False</td>\n",
              "      <td>False</td>\n",
              "      <td>False</td>\n",
              "      <td>False</td>\n",
              "      <td>False</td>\n",
              "      <td>Night</td>\n",
              "      <td>Night</td>\n",
              "      <td>Night</td>\n",
              "      <td>Night</td>\n",
              "    </tr>\n",
              "    <tr>\n",
              "      <th>1221501</th>\n",
              "      <td>A-1221604</td>\n",
              "      <td>MapQuest</td>\n",
              "      <td>201.0</td>\n",
              "      <td>2</td>\n",
              "      <td>2019-09-17 08:29:19</td>\n",
              "      <td>2019-09-17 09:29:10</td>\n",
              "      <td>32.885578</td>\n",
              "      <td>-96.758247</td>\n",
              "      <td>NaN</td>\n",
              "      <td>NaN</td>\n",
              "      <td>0.000</td>\n",
              "      <td>Accident on Meadow Rd at Greenville Ave.</td>\n",
              "      <td>NaN</td>\n",
              "      <td>Meadow Rd</td>\n",
              "      <td>R</td>\n",
              "      <td>Dallas</td>\n",
              "      <td>Dallas</td>\n",
              "      <td>TX</td>\n",
              "      <td>75231</td>\n",
              "      <td>US</td>\n",
              "      <td>US/Central</td>\n",
              "      <td>KDAL</td>\n",
              "      <td>2019-09-17 08:53:00</td>\n",
              "      <td>80.0</td>\n",
              "      <td>80.0</td>\n",
              "      <td>69.0</td>\n",
              "      <td>29.48</td>\n",
              "      <td>10.0</td>\n",
              "      <td>E</td>\n",
              "      <td>7.0</td>\n",
              "      <td>0.00</td>\n",
              "      <td>Fair</td>\n",
              "      <td>False</td>\n",
              "      <td>False</td>\n",
              "      <td>False</td>\n",
              "      <td>False</td>\n",
              "      <td>False</td>\n",
              "      <td>False</td>\n",
              "      <td>False</td>\n",
              "      <td>False</td>\n",
              "      <td>False</td>\n",
              "      <td>False</td>\n",
              "      <td>False</td>\n",
              "      <td>True</td>\n",
              "      <td>False</td>\n",
              "      <td>Day</td>\n",
              "      <td>Day</td>\n",
              "      <td>Day</td>\n",
              "      <td>Day</td>\n",
              "    </tr>\n",
              "    <tr>\n",
              "      <th>1894367</th>\n",
              "      <td>A-1894479</td>\n",
              "      <td>MapQuest</td>\n",
              "      <td>203.0</td>\n",
              "      <td>3</td>\n",
              "      <td>2018-09-18 07:11:05</td>\n",
              "      <td>2018-09-18 07:40:37</td>\n",
              "      <td>39.293797</td>\n",
              "      <td>-76.610291</td>\n",
              "      <td>NaN</td>\n",
              "      <td>NaN</td>\n",
              "      <td>0.000</td>\n",
              "      <td>Multi-vehicle accident on I-83 Southbound at P...</td>\n",
              "      <td>807.0</td>\n",
              "      <td>Hillen St</td>\n",
              "      <td>R</td>\n",
              "      <td>Baltimore</td>\n",
              "      <td>Baltimore City</td>\n",
              "      <td>MD</td>\n",
              "      <td>21202</td>\n",
              "      <td>US</td>\n",
              "      <td>US/Eastern</td>\n",
              "      <td>KDMH</td>\n",
              "      <td>2018-09-18 06:54:00</td>\n",
              "      <td>75.0</td>\n",
              "      <td>NaN</td>\n",
              "      <td>100.0</td>\n",
              "      <td>29.79</td>\n",
              "      <td>NaN</td>\n",
              "      <td>North</td>\n",
              "      <td>NaN</td>\n",
              "      <td>NaN</td>\n",
              "      <td>NaN</td>\n",
              "      <td>False</td>\n",
              "      <td>False</td>\n",
              "      <td>False</td>\n",
              "      <td>False</td>\n",
              "      <td>False</td>\n",
              "      <td>False</td>\n",
              "      <td>False</td>\n",
              "      <td>False</td>\n",
              "      <td>False</td>\n",
              "      <td>False</td>\n",
              "      <td>False</td>\n",
              "      <td>True</td>\n",
              "      <td>False</td>\n",
              "      <td>Day</td>\n",
              "      <td>Day</td>\n",
              "      <td>Day</td>\n",
              "      <td>Day</td>\n",
              "    </tr>\n",
              "    <tr>\n",
              "      <th>641050</th>\n",
              "      <td>A-641078</td>\n",
              "      <td>MapQuest</td>\n",
              "      <td>241.0</td>\n",
              "      <td>2</td>\n",
              "      <td>2020-10-12 17:25:22</td>\n",
              "      <td>2020-10-12 20:13:42</td>\n",
              "      <td>38.465149</td>\n",
              "      <td>-123.009048</td>\n",
              "      <td>NaN</td>\n",
              "      <td>NaN</td>\n",
              "      <td>0.000</td>\n",
              "      <td>Lane blocked due to accident on River Blvd Eas...</td>\n",
              "      <td>10062.0</td>\n",
              "      <td>Bohemian Hwy</td>\n",
              "      <td>R</td>\n",
              "      <td>Sebastopol</td>\n",
              "      <td>Sonoma</td>\n",
              "      <td>CA</td>\n",
              "      <td>95472</td>\n",
              "      <td>US</td>\n",
              "      <td>US/Pacific</td>\n",
              "      <td>KSTS</td>\n",
              "      <td>2020-10-12 17:53:00</td>\n",
              "      <td>83.0</td>\n",
              "      <td>83.0</td>\n",
              "      <td>31.0</td>\n",
              "      <td>29.84</td>\n",
              "      <td>10.0</td>\n",
              "      <td>SSW</td>\n",
              "      <td>6.0</td>\n",
              "      <td>0.00</td>\n",
              "      <td>Fair</td>\n",
              "      <td>False</td>\n",
              "      <td>False</td>\n",
              "      <td>False</td>\n",
              "      <td>False</td>\n",
              "      <td>False</td>\n",
              "      <td>False</td>\n",
              "      <td>False</td>\n",
              "      <td>False</td>\n",
              "      <td>False</td>\n",
              "      <td>False</td>\n",
              "      <td>False</td>\n",
              "      <td>False</td>\n",
              "      <td>False</td>\n",
              "      <td>Day</td>\n",
              "      <td>Day</td>\n",
              "      <td>Day</td>\n",
              "      <td>Day</td>\n",
              "    </tr>\n",
              "    <tr>\n",
              "      <th>...</th>\n",
              "      <td>...</td>\n",
              "      <td>...</td>\n",
              "      <td>...</td>\n",
              "      <td>...</td>\n",
              "      <td>...</td>\n",
              "      <td>...</td>\n",
              "      <td>...</td>\n",
              "      <td>...</td>\n",
              "      <td>...</td>\n",
              "      <td>...</td>\n",
              "      <td>...</td>\n",
              "      <td>...</td>\n",
              "      <td>...</td>\n",
              "      <td>...</td>\n",
              "      <td>...</td>\n",
              "      <td>...</td>\n",
              "      <td>...</td>\n",
              "      <td>...</td>\n",
              "      <td>...</td>\n",
              "      <td>...</td>\n",
              "      <td>...</td>\n",
              "      <td>...</td>\n",
              "      <td>...</td>\n",
              "      <td>...</td>\n",
              "      <td>...</td>\n",
              "      <td>...</td>\n",
              "      <td>...</td>\n",
              "      <td>...</td>\n",
              "      <td>...</td>\n",
              "      <td>...</td>\n",
              "      <td>...</td>\n",
              "      <td>...</td>\n",
              "      <td>...</td>\n",
              "      <td>...</td>\n",
              "      <td>...</td>\n",
              "      <td>...</td>\n",
              "      <td>...</td>\n",
              "      <td>...</td>\n",
              "      <td>...</td>\n",
              "      <td>...</td>\n",
              "      <td>...</td>\n",
              "      <td>...</td>\n",
              "      <td>...</td>\n",
              "      <td>...</td>\n",
              "      <td>...</td>\n",
              "      <td>...</td>\n",
              "      <td>...</td>\n",
              "      <td>...</td>\n",
              "      <td>...</td>\n",
              "    </tr>\n",
              "    <tr>\n",
              "      <th>3571507</th>\n",
              "      <td>A-3578319</td>\n",
              "      <td>Bing</td>\n",
              "      <td>NaN</td>\n",
              "      <td>2</td>\n",
              "      <td>2020-03-13 08:23:00</td>\n",
              "      <td>2020-03-13 09:16:48</td>\n",
              "      <td>34.234842</td>\n",
              "      <td>-118.290932</td>\n",
              "      <td>34.234842</td>\n",
              "      <td>-118.290932</td>\n",
              "      <td>0.000</td>\n",
              "      <td>At La Tuna Canyon Rd - Accident.</td>\n",
              "      <td>NaN</td>\n",
              "      <td>Foothill Fwy E</td>\n",
              "      <td>R</td>\n",
              "      <td>Sun Valley</td>\n",
              "      <td>Los Angeles</td>\n",
              "      <td>CA</td>\n",
              "      <td>91352</td>\n",
              "      <td>US</td>\n",
              "      <td>US/Pacific</td>\n",
              "      <td>KBUR</td>\n",
              "      <td>2020-03-13 08:51:00</td>\n",
              "      <td>52.0</td>\n",
              "      <td>52.0</td>\n",
              "      <td>88.0</td>\n",
              "      <td>29.05</td>\n",
              "      <td>5.0</td>\n",
              "      <td>CALM</td>\n",
              "      <td>0.0</td>\n",
              "      <td>0.06</td>\n",
              "      <td>Light Rain</td>\n",
              "      <td>False</td>\n",
              "      <td>False</td>\n",
              "      <td>False</td>\n",
              "      <td>False</td>\n",
              "      <td>False</td>\n",
              "      <td>False</td>\n",
              "      <td>False</td>\n",
              "      <td>False</td>\n",
              "      <td>False</td>\n",
              "      <td>False</td>\n",
              "      <td>False</td>\n",
              "      <td>False</td>\n",
              "      <td>False</td>\n",
              "      <td>Day</td>\n",
              "      <td>Day</td>\n",
              "      <td>Day</td>\n",
              "      <td>Day</td>\n",
              "    </tr>\n",
              "    <tr>\n",
              "      <th>1099426</th>\n",
              "      <td>A-1099529</td>\n",
              "      <td>MapQuest</td>\n",
              "      <td>201.0</td>\n",
              "      <td>2</td>\n",
              "      <td>2019-11-04 06:29:39</td>\n",
              "      <td>2019-11-04 07:28:45</td>\n",
              "      <td>43.003315</td>\n",
              "      <td>-83.748947</td>\n",
              "      <td>NaN</td>\n",
              "      <td>NaN</td>\n",
              "      <td>0.000</td>\n",
              "      <td>Accident on I-75 Southbound at Exit 118 M-21 C...</td>\n",
              "      <td>NaN</td>\n",
              "      <td>I-75 N</td>\n",
              "      <td>R</td>\n",
              "      <td>Flint</td>\n",
              "      <td>Genesee</td>\n",
              "      <td>MI</td>\n",
              "      <td>48532</td>\n",
              "      <td>US</td>\n",
              "      <td>US/Eastern</td>\n",
              "      <td>KFNT</td>\n",
              "      <td>2019-11-04 06:53:00</td>\n",
              "      <td>44.0</td>\n",
              "      <td>38.0</td>\n",
              "      <td>73.0</td>\n",
              "      <td>29.08</td>\n",
              "      <td>10.0</td>\n",
              "      <td>S</td>\n",
              "      <td>13.0</td>\n",
              "      <td>0.01</td>\n",
              "      <td>Cloudy</td>\n",
              "      <td>False</td>\n",
              "      <td>False</td>\n",
              "      <td>False</td>\n",
              "      <td>False</td>\n",
              "      <td>False</td>\n",
              "      <td>False</td>\n",
              "      <td>False</td>\n",
              "      <td>False</td>\n",
              "      <td>False</td>\n",
              "      <td>False</td>\n",
              "      <td>False</td>\n",
              "      <td>False</td>\n",
              "      <td>False</td>\n",
              "      <td>Night</td>\n",
              "      <td>Night</td>\n",
              "      <td>Day</td>\n",
              "      <td>Day</td>\n",
              "    </tr>\n",
              "    <tr>\n",
              "      <th>3493674</th>\n",
              "      <td>A-3500464</td>\n",
              "      <td>Bing</td>\n",
              "      <td>NaN</td>\n",
              "      <td>2</td>\n",
              "      <td>2020-05-18 19:45:57</td>\n",
              "      <td>2020-05-18 20:30:57</td>\n",
              "      <td>33.467620</td>\n",
              "      <td>-112.110770</td>\n",
              "      <td>33.467620</td>\n",
              "      <td>-112.110770</td>\n",
              "      <td>0.000</td>\n",
              "      <td>At McDowell Rd/Exit 200B - Accident.</td>\n",
              "      <td>NaN</td>\n",
              "      <td>Black Canyon Fwy S</td>\n",
              "      <td>R</td>\n",
              "      <td>Phoenix</td>\n",
              "      <td>Maricopa</td>\n",
              "      <td>AZ</td>\n",
              "      <td>85009</td>\n",
              "      <td>US</td>\n",
              "      <td>US/Mountain</td>\n",
              "      <td>KPHX</td>\n",
              "      <td>2020-05-18 19:47:00</td>\n",
              "      <td>95.0</td>\n",
              "      <td>95.0</td>\n",
              "      <td>12.0</td>\n",
              "      <td>28.55</td>\n",
              "      <td>10.0</td>\n",
              "      <td>W</td>\n",
              "      <td>16.0</td>\n",
              "      <td>0.00</td>\n",
              "      <td>Fair</td>\n",
              "      <td>False</td>\n",
              "      <td>False</td>\n",
              "      <td>False</td>\n",
              "      <td>False</td>\n",
              "      <td>True</td>\n",
              "      <td>False</td>\n",
              "      <td>False</td>\n",
              "      <td>False</td>\n",
              "      <td>False</td>\n",
              "      <td>False</td>\n",
              "      <td>False</td>\n",
              "      <td>False</td>\n",
              "      <td>False</td>\n",
              "      <td>Night</td>\n",
              "      <td>Day</td>\n",
              "      <td>Day</td>\n",
              "      <td>Day</td>\n",
              "    </tr>\n",
              "    <tr>\n",
              "      <th>1894008</th>\n",
              "      <td>A-1894120</td>\n",
              "      <td>MapQuest</td>\n",
              "      <td>201.0</td>\n",
              "      <td>3</td>\n",
              "      <td>2018-09-17 17:47:56</td>\n",
              "      <td>2018-09-17 18:17:45</td>\n",
              "      <td>33.756657</td>\n",
              "      <td>-118.019341</td>\n",
              "      <td>NaN</td>\n",
              "      <td>NaN</td>\n",
              "      <td>0.000</td>\n",
              "      <td>Slow lane blocked due to accident on I-405 Sou...</td>\n",
              "      <td>NaN</td>\n",
              "      <td>San Diego Fwy S</td>\n",
              "      <td>R</td>\n",
              "      <td>Westminster</td>\n",
              "      <td>Orange</td>\n",
              "      <td>CA</td>\n",
              "      <td>92683</td>\n",
              "      <td>US</td>\n",
              "      <td>US/Pacific</td>\n",
              "      <td>KSLI</td>\n",
              "      <td>2018-09-17 07:58:00</td>\n",
              "      <td>65.5</td>\n",
              "      <td>NaN</td>\n",
              "      <td>70.0</td>\n",
              "      <td>29.91</td>\n",
              "      <td>10.0</td>\n",
              "      <td>Calm</td>\n",
              "      <td>NaN</td>\n",
              "      <td>NaN</td>\n",
              "      <td>Partly Cloudy</td>\n",
              "      <td>False</td>\n",
              "      <td>False</td>\n",
              "      <td>False</td>\n",
              "      <td>False</td>\n",
              "      <td>False</td>\n",
              "      <td>False</td>\n",
              "      <td>False</td>\n",
              "      <td>False</td>\n",
              "      <td>False</td>\n",
              "      <td>False</td>\n",
              "      <td>False</td>\n",
              "      <td>False</td>\n",
              "      <td>False</td>\n",
              "      <td>Day</td>\n",
              "      <td>Day</td>\n",
              "      <td>Day</td>\n",
              "      <td>Day</td>\n",
              "    </tr>\n",
              "    <tr>\n",
              "      <th>4121472</th>\n",
              "      <td>A-4128338</td>\n",
              "      <td>Bing</td>\n",
              "      <td>NaN</td>\n",
              "      <td>2</td>\n",
              "      <td>2017-10-02 15:42:13</td>\n",
              "      <td>2017-10-02 21:42:13</td>\n",
              "      <td>40.775860</td>\n",
              "      <td>-111.910690</td>\n",
              "      <td>40.770106</td>\n",
              "      <td>-111.911565</td>\n",
              "      <td>0.400</td>\n",
              "      <td>At I-80/Exit 308 - Accident.</td>\n",
              "      <td>NaN</td>\n",
              "      <td>W 300 N</td>\n",
              "      <td>R</td>\n",
              "      <td>Salt Lake City</td>\n",
              "      <td>Salt Lake</td>\n",
              "      <td>UT</td>\n",
              "      <td>84116</td>\n",
              "      <td>US</td>\n",
              "      <td>US/Mountain</td>\n",
              "      <td>KSLC</td>\n",
              "      <td>2017-10-02 15:54:00</td>\n",
              "      <td>52.0</td>\n",
              "      <td>NaN</td>\n",
              "      <td>47.0</td>\n",
              "      <td>29.90</td>\n",
              "      <td>10.0</td>\n",
              "      <td>NW</td>\n",
              "      <td>10.4</td>\n",
              "      <td>NaN</td>\n",
              "      <td>Mostly Cloudy</td>\n",
              "      <td>False</td>\n",
              "      <td>False</td>\n",
              "      <td>False</td>\n",
              "      <td>False</td>\n",
              "      <td>False</td>\n",
              "      <td>False</td>\n",
              "      <td>False</td>\n",
              "      <td>False</td>\n",
              "      <td>False</td>\n",
              "      <td>False</td>\n",
              "      <td>False</td>\n",
              "      <td>False</td>\n",
              "      <td>False</td>\n",
              "      <td>Day</td>\n",
              "      <td>Day</td>\n",
              "      <td>Day</td>\n",
              "      <td>Day</td>\n",
              "    </tr>\n",
              "  </tbody>\n",
              "</table>\n",
              "<p>423 rows × 49 columns</p>\n",
              "</div>"
            ],
            "text/plain": [
              "                ID    Source  ...  Nautical_Twilight  Astronomical_Twilight\n",
              "1201328  A-1201431  MapQuest  ...                Day                    Day\n",
              "3149790  A-3152716      Bing  ...              Night                  Night\n",
              "1221501  A-1221604  MapQuest  ...                Day                    Day\n",
              "1894367  A-1894479  MapQuest  ...                Day                    Day\n",
              "641050    A-641078  MapQuest  ...                Day                    Day\n",
              "...            ...       ...  ...                ...                    ...\n",
              "3571507  A-3578319      Bing  ...                Day                    Day\n",
              "1099426  A-1099529  MapQuest  ...                Day                    Day\n",
              "3493674  A-3500464      Bing  ...                Day                    Day\n",
              "1894008  A-1894120  MapQuest  ...                Day                    Day\n",
              "4121472  A-4128338      Bing  ...                Day                    Day\n",
              "\n",
              "[423 rows x 49 columns]"
            ]
          },
          "metadata": {
            "tags": []
          },
          "execution_count": 79
        }
      ]
    },
    {
      "cell_type": "code",
      "metadata": {
        "id": "3xstgvImugEx",
        "colab": {
          "base_uri": "https://localhost:8080/",
          "height": 712
        },
        "outputId": "a1dfad6d-1fc2-4f19-fbed-41c7882e9bfa"
      },
      "source": [
        "map=folium.Map()\r\n",
        "HeatMap(lat_lon_pairs).add_to(map)\r\n",
        "map"
      ],
      "execution_count": 80,
      "outputs": [
        {
          "output_type": "execute_result",
          "data": {
            "text/html": [
              "<div style=\"width:100%;\"><div style=\"position:relative;width:100%;height:0;padding-bottom:60%;\"><span style=\"color:#565656\">Make this Notebook Trusted to load map: File -> Trust Notebook</span><iframe src=\"about:blank\" style=\"position:absolute;width:100%;height:100%;left:0;top:0;border:none !important;\" data-html=%3C%21DOCTYPE%20html%3E%0A%3Chead%3E%20%20%20%20%0A%20%20%20%20%3Cmeta%20http-equiv%3D%22content-type%22%20content%3D%22text/html%3B%20charset%3DUTF-8%22%20/%3E%0A%20%20%20%20%3Cscript%3EL_PREFER_CANVAS%3Dfalse%3B%20L_NO_TOUCH%3Dfalse%3B%20L_DISABLE_3D%3Dfalse%3B%3C/script%3E%0A%20%20%20%20%3Cscript%20src%3D%22https%3A//cdn.jsdelivr.net/npm/leaflet%401.4.0/dist/leaflet.js%22%3E%3C/script%3E%0A%20%20%20%20%3Cscript%20src%3D%22https%3A//code.jquery.com/jquery-1.12.4.min.js%22%3E%3C/script%3E%0A%20%20%20%20%3Cscript%20src%3D%22https%3A//maxcdn.bootstrapcdn.com/bootstrap/3.2.0/js/bootstrap.min.js%22%3E%3C/script%3E%0A%20%20%20%20%3Cscript%20src%3D%22https%3A//cdnjs.cloudflare.com/ajax/libs/Leaflet.awesome-markers/2.0.2/leaflet.awesome-markers.js%22%3E%3C/script%3E%0A%20%20%20%20%3Clink%20rel%3D%22stylesheet%22%20href%3D%22https%3A//cdn.jsdelivr.net/npm/leaflet%401.4.0/dist/leaflet.css%22/%3E%0A%20%20%20%20%3Clink%20rel%3D%22stylesheet%22%20href%3D%22https%3A//maxcdn.bootstrapcdn.com/bootstrap/3.2.0/css/bootstrap.min.css%22/%3E%0A%20%20%20%20%3Clink%20rel%3D%22stylesheet%22%20href%3D%22https%3A//maxcdn.bootstrapcdn.com/bootstrap/3.2.0/css/bootstrap-theme.min.css%22/%3E%0A%20%20%20%20%3Clink%20rel%3D%22stylesheet%22%20href%3D%22https%3A//maxcdn.bootstrapcdn.com/font-awesome/4.6.3/css/font-awesome.min.css%22/%3E%0A%20%20%20%20%3Clink%20rel%3D%22stylesheet%22%20href%3D%22https%3A//cdnjs.cloudflare.com/ajax/libs/Leaflet.awesome-markers/2.0.2/leaflet.awesome-markers.css%22/%3E%0A%20%20%20%20%3Clink%20rel%3D%22stylesheet%22%20href%3D%22https%3A//rawcdn.githack.com/python-visualization/folium/master/folium/templates/leaflet.awesome.rotate.css%22/%3E%0A%20%20%20%20%3Cstyle%3Ehtml%2C%20body%20%7Bwidth%3A%20100%25%3Bheight%3A%20100%25%3Bmargin%3A%200%3Bpadding%3A%200%3B%7D%3C/style%3E%0A%20%20%20%20%3Cstyle%3E%23map%20%7Bposition%3Aabsolute%3Btop%3A0%3Bbottom%3A0%3Bright%3A0%3Bleft%3A0%3B%7D%3C/style%3E%0A%20%20%20%20%0A%20%20%20%20%3Cmeta%20name%3D%22viewport%22%20content%3D%22width%3Ddevice-width%2C%0A%20%20%20%20%20%20%20%20initial-scale%3D1.0%2C%20maximum-scale%3D1.0%2C%20user-scalable%3Dno%22%20/%3E%0A%20%20%20%20%3Cstyle%3E%23map_fb2fc888182041b0bb31c2abf26c581f%20%7B%0A%20%20%20%20%20%20%20%20position%3A%20relative%3B%0A%20%20%20%20%20%20%20%20width%3A%20100.0%25%3B%0A%20%20%20%20%20%20%20%20height%3A%20100.0%25%3B%0A%20%20%20%20%20%20%20%20left%3A%200.0%25%3B%0A%20%20%20%20%20%20%20%20top%3A%200.0%25%3B%0A%20%20%20%20%20%20%20%20%7D%0A%20%20%20%20%3C/style%3E%0A%20%20%20%20%3Cscript%20src%3D%22https%3A//leaflet.github.io/Leaflet.heat/dist/leaflet-heat.js%22%3E%3C/script%3E%0A%3C/head%3E%0A%3Cbody%3E%20%20%20%20%0A%20%20%20%20%0A%20%20%20%20%3Cdiv%20class%3D%22folium-map%22%20id%3D%22map_fb2fc888182041b0bb31c2abf26c581f%22%20%3E%3C/div%3E%0A%3C/body%3E%0A%3Cscript%3E%20%20%20%20%0A%20%20%20%20%0A%20%20%20%20%0A%20%20%20%20%20%20%20%20var%20bounds%20%3D%20null%3B%0A%20%20%20%20%0A%0A%20%20%20%20var%20map_fb2fc888182041b0bb31c2abf26c581f%20%3D%20L.map%28%0A%20%20%20%20%20%20%20%20%27map_fb2fc888182041b0bb31c2abf26c581f%27%2C%20%7B%0A%20%20%20%20%20%20%20%20center%3A%20%5B0%2C%200%5D%2C%0A%20%20%20%20%20%20%20%20zoom%3A%201%2C%0A%20%20%20%20%20%20%20%20maxBounds%3A%20bounds%2C%0A%20%20%20%20%20%20%20%20layers%3A%20%5B%5D%2C%0A%20%20%20%20%20%20%20%20worldCopyJump%3A%20false%2C%0A%20%20%20%20%20%20%20%20crs%3A%20L.CRS.EPSG3857%2C%0A%20%20%20%20%20%20%20%20zoomControl%3A%20true%2C%0A%20%20%20%20%20%20%20%20%7D%29%3B%0A%0A%0A%20%20%20%20%0A%20%20%20%20var%20tile_layer_4126aa06483743dc8b9b50488fe6b4d1%20%3D%20L.tileLayer%28%0A%20%20%20%20%20%20%20%20%27https%3A//%7Bs%7D.tile.openstreetmap.org/%7Bz%7D/%7Bx%7D/%7By%7D.png%27%2C%0A%20%20%20%20%20%20%20%20%7B%0A%20%20%20%20%20%20%20%20%22attribution%22%3A%20null%2C%0A%20%20%20%20%20%20%20%20%22detectRetina%22%3A%20false%2C%0A%20%20%20%20%20%20%20%20%22maxNativeZoom%22%3A%2018%2C%0A%20%20%20%20%20%20%20%20%22maxZoom%22%3A%2018%2C%0A%20%20%20%20%20%20%20%20%22minZoom%22%3A%200%2C%0A%20%20%20%20%20%20%20%20%22noWrap%22%3A%20false%2C%0A%20%20%20%20%20%20%20%20%22opacity%22%3A%201%2C%0A%20%20%20%20%20%20%20%20%22subdomains%22%3A%20%22abc%22%2C%0A%20%20%20%20%20%20%20%20%22tms%22%3A%20false%0A%7D%29.addTo%28map_fb2fc888182041b0bb31c2abf26c581f%29%3B%0A%20%20%20%20%0A%20%20%20%20%20%20%20%20%20%20%20%20var%20heat_map_af51f5e06be644ec95ef21323a15e6f8%20%3D%20L.heatLayer%28%0A%20%20%20%20%20%20%20%20%20%20%20%20%20%20%20%20%5B%5B30.404559999999996%2C%20-91.183723%5D%2C%20%5B48.166513%2C%20-98.984021%5D%2C%20%5B32.885578%2C%20-96.758247%5D%2C%20%5B39.293797%2C%20-76.610291%5D%2C%20%5B38.465149%2C%20-123.00904799999999%5D%2C%20%5B32.4504%2C%20-80.99178%5D%2C%20%5B34.07229%2C%20-117.93104%5D%2C%20%5B43.211909999999996%2C%20-124.24277%5D%2C%20%5B39.734749%2C%20-75.69420600000001%5D%2C%20%5B30.36635%2C%20-97.738632%5D%2C%20%5B30.250542%2C%20-97.686348%5D%2C%20%5B30.43828%2C%20-91.024384%5D%2C%20%5B43.455593%2C%20-87.94062%5D%2C%20%5B41.539719%2C%20-73.009399%5D%2C%20%5B35.19983%2C%20-80.88826%5D%2C%20%5B42.280006%2C%20-87.905334%5D%2C%20%5B35.414846999999995%2C%20-90.284024%5D%2C%20%5B43.09774%2C%20-83.763008%5D%2C%20%5B47.613890000000005%2C%20-122.32982%5D%2C%20%5B27.404733%2C%20-82.553354%5D%2C%20%5B39.767708%2C%20-75.047935%5D%2C%20%5B39.79564%2C%20-86.12069%5D%2C%20%5B34.055695%2C%20-118.45196499999999%5D%2C%20%5B40.613189%2C%20-77.570048%5D%2C%20%5B44.541698%2C%20-95.279007%5D%2C%20%5B37.37523%2C%20-121.933619%5D%2C%20%5B27.269140000000004%2C%20-82.46464499999999%5D%2C%20%5B35.734673%2C%20-78.797904%5D%2C%20%5B41.72586%2C%20-87.97208%5D%2C%20%5B42.305896999999995%2C%20-88.107361%5D%2C%20%5B47.23948%2C%20-122.40683999999999%5D%2C%20%5B38.6492%2C%20-78.67491899999999%5D%2C%20%5B35.216209%2C%20-80.763717%5D%2C%20%5B32.843277%2C%20-83.644014%5D%2C%20%5B44.94236%2C%20-92.435715%5D%2C%20%5B43.019531%2C%20-83.55584%5D%2C%20%5B39.857044%2C%20-74.178765%5D%2C%20%5B26.166488%2C%20-80.148944%5D%2C%20%5B34.227545%2C%20-117.25326000000001%5D%2C%20%5B39.003726%2C%20-94.694539%5D%2C%20%5B39.900221%2C%20-104.988178%5D%2C%20%5B40.58662%2C%20-80.099976%5D%2C%20%5B35.868221000000005%2C%20-78.620811%5D%2C%20%5B34.57085%2C%20-82.71004%5D%2C%20%5B33.768589%2C%20-84.385277%5D%2C%20%5B34.32%2C%20-118.49668100000001%5D%2C%20%5B41.306678999999995%2C%20-95.956558%5D%2C%20%5B38.022038%2C%20-121.96019199999999%5D%2C%20%5B29.635523%2C%20-95.505638%5D%2C%20%5B33.055698%2C%20-80.23835799999999%5D%2C%20%5B45.59255%2C%20-123.94738999999998%5D%2C%20%5B33.271049%2C%20-80.56910699999999%5D%2C%20%5B34.02851%2C%20-118.06811%5D%2C%20%5B26.094048%2C%20-80.16819%5D%2C%20%5B33.606262%2C%20-81.843491%5D%2C%20%5B28.55307%2C%20-81.39537%5D%2C%20%5B47.633492%2C%20-122.38662%5D%2C%20%5B33.92503%2C%20-118.326576%5D%2C%20%5B45.141909000000005%2C%20-121.627849%5D%2C%20%5B39.18638%2C%20-104.85025%5D%2C%20%5B37.380512%2C%20-121.959015%5D%2C%20%5B39.049009999999996%2C%20-84.57203%5D%2C%20%5B41.88008%2C%20-87.77466%5D%2C%20%5B35.216301%2C%20-80.75489%5D%2C%20%5B34.617172%2C%20-118.153465%5D%2C%20%5B40.389332%2C%20-122.287811%5D%2C%20%5B33.631405%2C%20-84.39492%5D%2C%20%5B30.1266%2C%20-95.443321%5D%2C%20%5B35.095875%2C%20-81.002815%5D%2C%20%5B44.999023%2C%20-93.065392%5D%2C%20%5B30.247992%2C%20-97.750275%5D%2C%20%5B39.587596999999995%2C%20-86.06360600000001%5D%2C%20%5B32.682976000000004%2C%20-96.656532%5D%2C%20%5B32.70375%2C%20-96.66301999999999%5D%2C%20%5B33.208984%2C%20-87.543076%5D%2C%20%5B34.089554%2C%20-118.81545700000001%5D%2C%20%5B33.248616%2C%20-81.389067%5D%2C%20%5B44.893566%2C%20-93.25277700000001%5D%2C%20%5B38.680619%2C%20-77.231408%5D%2C%20%5B34.059529%2C%20-118.24718%5D%2C%20%5B32.439011%2C%20-94.716652%5D%2C%20%5B42.927085999999996%2C%20-85.617805%5D%2C%20%5B34.837709999999994%2C%20-82.28967%5D%2C%20%5B37.448263%2C%20-120.721726%5D%2C%20%5B35.752972%2C%20-78.648949%5D%2C%20%5B36.434515000000005%2C%20-120.394502%5D%2C%20%5B26.303178999999997%2C%20-80.119873%5D%2C%20%5B30.456153999999998%2C%20-97.66570300000001%5D%2C%20%5B44.91127%2C%20-93.350746%5D%2C%20%5B34.4189%2C%20-79.412285%5D%2C%20%5B26.36321%2C%20-80.11973%5D%2C%20%5B34.807705%2C%20-80.616928%5D%2C%20%5B32.668175%2C%20-97.35598%5D%2C%20%5B38.941909%2C%20-76.951769%5D%2C%20%5B25.92582%2C%20-80.20699%5D%2C%20%5B42.517433000000004%2C%20-73.789406%5D%2C%20%5B41.11554%2C%20-111.76359599999999%5D%2C%20%5B33.595707%2C%20-117.245148%5D%2C%20%5B38.747498%2C%20-90.590553%5D%2C%20%5B28.485260999999998%2C%20-82.57727299999999%5D%2C%20%5B42.502990999999994%2C%20-71.12645%5D%2C%20%5B38.444981%2C%20-122.723831%5D%2C%20%5B41.843773%2C%20-87.9702%5D%2C%20%5B44.898990999999995%2C%20-93.401375%5D%2C%20%5B27.298746%2C%20-82.448219%5D%2C%20%5B32.442434000000006%2C%20-93.79742399999999%5D%2C%20%5B36.042889%2C%20-86.606483%5D%2C%20%5B41.04639%2C%20-73.54621%5D%2C%20%5B40.2021%2C%20-77.19646%5D%2C%20%5B32.769138%2C%20-96.806366%5D%2C%20%5B30.692127000000003%2C%20-88.027858%5D%2C%20%5B40.628820000000005%2C%20-74.3025%5D%2C%20%5B31.771746000000004%2C%20-106.37766299999998%5D%2C%20%5B33.928523999999996%2C%20-118.239166%5D%2C%20%5B41.41708%2C%20-73.42823%5D%2C%20%5B33.860481%2C%20-118.20031000000002%5D%2C%20%5B31.769716%2C%20-106.373222%5D%2C%20%5B30.267731%2C%20-97.734337%5D%2C%20%5B39.014305%2C%20-76.491104%5D%2C%20%5B45.04262%2C%20-93.03922%5D%2C%20%5B33.68293%2C%20-80.128647%5D%2C%20%5B42.863033%2C%20-83.739975%5D%2C%20%5B33.895501%2C%20-118.36756299999999%5D%2C%20%5B33.981213000000004%2C%20-117.972977%5D%2C%20%5B38.631316999999996%2C%20-121.504875%5D%2C%20%5B29.600680999999998%2C%20-98.418266%5D%2C%20%5B47.53745%2C%20-122.33474%5D%2C%20%5B37.771076%2C%20-122.422928%5D%2C%20%5B40.63596%2C%20-111.9102%5D%2C%20%5B33.927937%2C%20-118.27199499999999%5D%2C%20%5B35.100975%2C%20-80.88044000000001%5D%2C%20%5B36.111488%2C%20-95.958054%5D%2C%20%5B35.197986%2C%20-80.86881%5D%2C%20%5B33.771190999999995%2C%20-117.992249%5D%2C%20%5B35.247681%2C%20-80.896233%5D%2C%20%5B35.216621%2C%20-80.832596%5D%2C%20%5B39.744442%2C%20-105.017349%5D%2C%20%5B40.798378%2C%20-73.47805%5D%2C%20%5B38.63156%2C%20-90.35423%5D%2C%20%5B40.006170000000004%2C%20-75.19345%5D%2C%20%5B42.384789000000005%2C%20-83.14827%5D%2C%20%5B36.944099%2C%20-81.075027%5D%2C%20%5B39.037575%2C%20-77.14537800000001%5D%2C%20%5B27.315081%2C%20-82.482201%5D%2C%20%5B35.237572%2C%20-80.940407%5D%2C%20%5B33.876358%2C%20-118.101974%5D%2C%20%5B29.705561%2C%20-95.482552%5D%2C%20%5B38.433296%2C%20-122.722633%5D%2C%20%5B44.939541%2C%20-93.274826%5D%2C%20%5B30.367392%2C%20-97.694588%5D%2C%20%5B27.937827000000002%2C%20-82.306157%5D%2C%20%5B33.082062%2C%20-80.207176%5D%2C%20%5B26.254709000000002%2C%20-80.17394300000001%5D%2C%20%5B33.854225%2C%20-117.79065%5D%2C%20%5B37.890163%2C%20-122.308296%5D%2C%20%5B32.897960999999995%2C%20-96.718361%5D%2C%20%5B38.105284999999995%2C%20-121.70151100000001%5D%2C%20%5B37.385414000000004%2C%20-121.86408999999999%5D%2C%20%5B39.49393%2C%20-118.89392%5D%2C%20%5B33.925858000000005%2C%20-80.40677600000001%5D%2C%20%5B47.393699%2C%20-121.474124%5D%2C%20%5B41.819408%2C%20-72.609383%5D%2C%20%5B40.53614%2C%20-74.2245%5D%2C%20%5B41.424647%2C%20-73.355981%5D%2C%20%5B33.95446%2C%20-81.123047%5D%2C%20%5B42.542583%2C%20-71.283684%5D%2C%20%5B29.600590000000004%2C%20-95.24107%5D%2C%20%5B33.400143%2C%20-111.909103%5D%2C%20%5B33.854002%2C%20-117.94183400000001%5D%2C%20%5B35.119907%2C%20-82.182007%5D%2C%20%5B34.470156%2C%20-117.451034%5D%2C%20%5B34.013552000000004%2C%20-117.44588%5D%2C%20%5B34.120436%2C%20-118.271244%5D%2C%20%5B37.352196%2C%20-121.99681899999999%5D%2C%20%5B42.400172999999995%2C%20-83.21820799999999%5D%2C%20%5B42.984879%2C%20-85.677193%5D%2C%20%5B32.935108%2C%20-85.105598%5D%2C%20%5B42.490337%2C%20-71.723351%5D%2C%20%5B42.38577%2C%20-83.10074%5D%2C%20%5B36.089890000000004%2C%20-95.88663000000001%5D%2C%20%5B34.73365%2C%20-118.076897%5D%2C%20%5B36.075882%2C%20-86.639938%5D%2C%20%5B35.963009%2C%20-78.43498199999999%5D%2C%20%5B35.030368%2C%20-85.314277%5D%2C%20%5B40.667568%2C%20-112.024689%5D%2C%20%5B33.994816%2C%20-114.216858%5D%2C%20%5B35.777538%2C%20-78.529808%5D%2C%20%5B35.109085%2C%20-81.60296600000001%5D%2C%20%5B33.600143%2C%20-112.281273%5D%2C%20%5B30.232692999999998%2C%20-97.819176%5D%2C%20%5B25.787326%2C%20-80.197266%5D%2C%20%5B36.20438%2C%20-86.776741%5D%2C%20%5B44.406259999999996%2C%20-93.44644%5D%2C%20%5B34.857334%2C%20-82.586601%5D%2C%20%5B30.364881%2C%20-97.695995%5D%2C%20%5B42.427094%2C%20-122.95661000000001%5D%2C%20%5B38.558956%2C%20-122.82018300000001%5D%2C%20%5B36.11036%2C%20-86.74489%5D%2C%20%5B34.165009000000005%2C%20-118.474892%5D%2C%20%5B38.14143%2C%20-122.224595%5D%2C%20%5B39.772919%2C%20-104.865829%5D%2C%20%5B34.731219%2C%20-120.235972%5D%2C%20%5B44.35327%2C%20-121.17875%5D%2C%20%5B36.573518%2C%20-121.91273999999999%5D%2C%20%5B31.77927%2C%20-106.46421799999999%5D%2C%20%5B41.239948%2C%20-73.077766%5D%2C%20%5B29.597715%2C%20-95.38653599999999%5D%2C%20%5B43.176369%2C%20-77.557358%5D%2C%20%5B34.497831%2C%20-118.218675%5D%2C%20%5B33.536537%2C%20-112.29423500000001%5D%2C%20%5B26.85329%2C%20-81.97029%5D%2C%20%5B35.441105%2C%20-97.48575600000001%5D%2C%20%5B38.93973%2C%20-76.88417%5D%2C%20%5B38.41925%2C%20-121.393301%5D%2C%20%5B29.946122999999996%2C%20-95.433449%5D%2C%20%5B33.55316%2C%20-112.15156999999999%5D%2C%20%5B39.643021000000005%2C%20-77.636726%5D%2C%20%5B29.688715000000002%2C%20-95.390236%5D%2C%20%5B29.779495%2C%20-95.368843%5D%2C%20%5B36.169998%2C%20-95.979996%5D%2C%20%5B38.46102%2C%20-121.41266999999999%5D%2C%20%5B33.917381%2C%20-118.157021%5D%2C%20%5B39.007247%2C%20-94.501358%5D%2C%20%5B39.83099%2C%20-84.851563%5D%2C%20%5B40.428989%2C%20-79.931618%5D%2C%20%5B44.9666%2C%20-93.27349%5D%2C%20%5B38.664840000000005%2C%20-77.27424%5D%2C%20%5B42.232388%2C%20-83.367188%5D%2C%20%5B36.738434999999996%2C%20-119.699956%5D%2C%20%5B34.020168%2C%20-78.94635%5D%2C%20%5B36.23423%2C%20-86.7463%5D%2C%20%5B32.762459%2C%20-117.16350600000001%5D%2C%20%5B34.13517%2C%20-117.31106799999999%5D%2C%20%5B33.97509%2C%20-118.124672%5D%2C%20%5B32.836864%2C%20-96.930763%5D%2C%20%5B45.259029999999996%2C%20-94.11813000000001%5D%2C%20%5B25.777752%2C%20-80.386009%5D%2C%20%5B39.639771%2C%20-105.053307%5D%2C%20%5B40.653040000000004%2C%20-112.02465%5D%2C%20%5B30.347540000000002%2C%20-97.71311999999999%5D%2C%20%5B42.393528%2C%20-87.948891%5D%2C%20%5B37.75643%2C%20-122.21042%5D%2C%20%5B40.132332%2C%20-77.01837900000001%5D%2C%20%5B35.272919%2C%20-80.836464%5D%2C%20%5B27.93755%2C%20-82.32975%5D%2C%20%5B36.319519%2C%20-82.343918%5D%2C%20%5B39.762503%2C%20-84.21860799999999%5D%2C%20%5B42.85577%2C%20-77.71519%5D%2C%20%5B34.513000000000005%2C%20-86.596008%5D%2C%20%5B46.09925%2C%20-123.75648000000001%5D%2C%20%5B29.660801%2C%20-95.60128%5D%2C%20%5B36.1534%2C%20-86.855804%5D%2C%20%5B34.17049%2C%20-118.30430600000001%5D%2C%20%5B35.015293%2C%20-81.948532%5D%2C%20%5B45.653781%2C%20-123.29848999999999%5D%2C%20%5B28.019506%2C%20-82.73799100000001%5D%2C%20%5B28.459639000000003%2C%20-82.627296%5D%2C%20%5B33.75095%2C%20-84.44467900000001%5D%2C%20%5B39.68932%2C%20-104.889549%5D%2C%20%5B38.769897%2C%20-121.24855%5D%2C%20%5B33.46275%2C%20-84.58744399999999%5D%2C%20%5B37.637904999999996%2C%20-121.12216200000002%5D%2C%20%5B35.29615%2C%20-106.54261799999999%5D%2C%20%5B33.741158%2C%20-117.83564799999999%5D%2C%20%5B45.514846999999996%2C%20-122.68836999999999%5D%2C%20%5B28.811449%2C%20-81.31452900000001%5D%2C%20%5B27.95617%2C%20-82.4642%5D%2C%20%5B37.647677%2C%20-122.095789%5D%2C%20%5B44.920628%2C%20-93.274467%5D%2C%20%5B33.9245%2C%20-118.048172%5D%2C%20%5B32.666677%2C%20-96.71651899999999%5D%2C%20%5B39.822528999999996%2C%20-104.96241%5D%2C%20%5B33.132981%2C%20-116.324666%5D%2C%20%5B39.01077%2C%20-94.78628%5D%2C%20%5B40.78709%2C%20-73.19148299999999%5D%2C%20%5B38.714312%2C%20-121.392379%5D%2C%20%5B34.024325%2C%20-117.740467%5D%2C%20%5B42.357898%2C%20-71.177531%5D%2C%20%5B33.314846%2C%20-81.17244699999999%5D%2C%20%5B41.885849%2C%20-88.184731%5D%2C%20%5B39.219296%2C%20-76.65840899999999%5D%2C%20%5B33.985699%2C%20-118.246544%5D%2C%20%5B25.666404999999997%2C%20-80.323746%5D%2C%20%5B38.157654%2C%20-85.718246%5D%2C%20%5B34.0376%2C%20-118.0862%5D%2C%20%5B40.99147%2C%20-76.639372%5D%2C%20%5B42.956245%2C%20-85.68734%5D%2C%20%5B38.86575%2C%20-76.97955%5D%2C%20%5B28.494745%2C%20-81.435677%5D%2C%20%5B40.072315%2C%20-120.94693000000001%5D%2C%20%5B42.379128%2C%20-83.033897%5D%2C%20%5B32.25034%2C%20-110.9354%5D%2C%20%5B45.129977000000004%2C%20-123.116849%5D%2C%20%5B29.865768%2C%20-95.483864%5D%2C%20%5B36.96405%2C%20-121.86631000000001%5D%2C%20%5B26.193325%2C%20-80.151333%5D%2C%20%5B34.070983%2C%20-117.523977%5D%2C%20%5B33.869778000000004%2C%20-118.05499099999999%5D%2C%20%5B42.961040000000004%2C%20-83.59857199999999%5D%2C%20%5B40.094691999999995%2C%20-75.362854%5D%2C%20%5B34.259496999999996%2C%20-118.43784699999999%5D%2C%20%5B35.21815%2C%20-80.8321%5D%2C%20%5B44.9419%2C%20-123.04151999999999%5D%2C%20%5B29.808689%2C%20-95.328453%5D%2C%20%5B34.98737%2C%20-82.347038%5D%2C%20%5B37.401077%2C%20-77.424522%5D%2C%20%5B43.028269%2C%20-87.96923000000001%5D%2C%20%5B33.928162%2C%20-118.238976%5D%2C%20%5B32.864769%2C%20-96.543327%5D%2C%20%5B42.353912%2C%20-73.577461%5D%2C%20%5B39.9692%2C%20-104.977776%5D%2C%20%5B35.474838%2C%20-97.535606%5D%2C%20%5B37.577961%2C%20-77.489037%5D%2C%20%5B44.32965%2C%20-68.67491%5D%2C%20%5B41.670181%2C%20-73.788521%5D%2C%20%5B34.157491%2C%20-117.66379599999999%5D%2C%20%5B29.679832%2C%20-95.57022099999999%5D%2C%20%5B42.64275%2C%20-71.23219300000001%5D%2C%20%5B43.927562%2C%20-91.43644300000001%5D%2C%20%5B29.700703000000004%2C%20-95.377075%5D%2C%20%5B34.426986%2C%20-118.54456499999999%5D%2C%20%5B37.829330999999996%2C%20-122.29363300000001%5D%2C%20%5B45.38987%2C%20-123.13718%5D%2C%20%5B25.477144%2C%20-80.477425%5D%2C%20%5B41.220123%2C%20-95.83183299999999%5D%2C%20%5B29.999972999999997%2C%20-82.597473%5D%2C%20%5B30.266748%2C%20-97.741821%5D%2C%20%5B28.008877000000002%2C%20-82.763176%5D%2C%20%5B39.947567%2C%20-75.11628%5D%2C%20%5B45.505375%2C%20-122.673607%5D%2C%20%5B42.190391999999996%2C%20-88.13546%5D%2C%20%5B38.833904%2C%20-77.460174%5D%2C%20%5B36.866749%2C%20-76.285522%5D%2C%20%5B33.77424%2C%20-118.01286999999999%5D%2C%20%5B29.707086999999998%2C%20-95.253738%5D%2C%20%5B42.728283000000005%2C%20-71.138763%5D%2C%20%5B25.825098%2C%20-80.228665%5D%2C%20%5B33.46133%2C%20-112.08226%5D%2C%20%5B39.79122%2C%20-84.20628%5D%2C%20%5B47.979282%2C%20-122.18829299999999%5D%2C%20%5B48.04367%2C%20-122.98103%5D%2C%20%5B37.925340000000006%2C%20-121.73284%5D%2C%20%5B25.847046%2C%20-80.20909300000001%5D%2C%20%5B27.95232%2C%20-82.524147%5D%2C%20%5B41.873670000000004%2C%20-87.730329%5D%2C%20%5B34.119686%2C%20-117.806854%5D%2C%20%5B29.688771999999997%2C%20-95.33201600000001%5D%2C%20%5B36.23008%2C%20-86.83%5D%2C%20%5B39.349163%2C%20-76.745705%5D%2C%20%5B37.533451%2C%20-77.428543%5D%2C%20%5B40.534703%2C%20-111.892351%5D%2C%20%5B43.594178%2C%20-119.054349%5D%2C%20%5B36.232239%2C%20-86.724823%5D%2C%20%5B39.838112%2C%20-104.959122%5D%2C%20%5B34.97999%2C%20-105.06291999999999%5D%2C%20%5B33.521035%2C%20-86.79947%5D%2C%20%5B37.11983%2C%20-121.97606200000001%5D%2C%20%5B27.851102%2C%20-82.70005%5D%2C%20%5B33.791618%2C%20-84.391472%5D%2C%20%5B40.765336%2C%20-74.023733%5D%2C%20%5B29.43103%2C%20-98.500298%5D%2C%20%5B38.36438%2C%20-81.61599%5D%2C%20%5B47.58663%2C%20-122.17931000000002%5D%2C%20%5B39.740013%2C%20-104.968475%5D%2C%20%5B40.49818%2C%20-74.300591%5D%2C%20%5B39.836349%2C%20-86.02711500000001%5D%2C%20%5B33.66043%2C%20-117.7479%5D%2C%20%5B40.172965999999995%2C%20-82.644386%5D%2C%20%5B41.130066%2C%20-73.815887%5D%2C%20%5B41.725876%2C%20-72.779907%5D%2C%20%5B42.410332000000004%2C%20-87.878227%5D%2C%20%5B32.795448%2C%20-117.079086%5D%2C%20%5B37.144386%2C%20-121.984673%5D%2C%20%5B25.734958%2C%20-80.319197%5D%2C%20%5B41.073933000000004%2C%20-111.97653999999999%5D%2C%20%5B41.700611%2C%20-70.015839%5D%2C%20%5B28.342567%2C%20-81.640017%5D%2C%20%5B36.793415%2C%20-119.510529%5D%2C%20%5B37.621297999999996%2C%20-122.426585%5D%2C%20%5B33.856052000000005%2C%20-118.02438400000001%5D%2C%20%5B39.986346999999995%2C%20-76.281052%5D%2C%20%5B30.618515999999996%2C%20-81.65270600000001%5D%2C%20%5B40.034107%2C%20-74.923798%5D%2C%20%5B34.196602%2C%20-79.275864%5D%2C%20%5B38.730312%2C%20-90.332359%5D%2C%20%5B40.593548999999996%2C%20-111.90239299999999%5D%2C%20%5B29.770059999999997%2C%20-95.43034399999999%5D%2C%20%5B35.094840999999995%2C%20-80.936226%5D%2C%20%5B47.15828%2C%20-122.43063000000001%5D%2C%20%5B39.115959000000004%2C%20-94.895035%5D%2C%20%5B40.12528%2C%20-76.21425%5D%2C%20%5B32.660038%2C%20-117.108177%5D%2C%20%5B32.897087%2C%20-96.469849%5D%2C%20%5B37.623622999999995%2C%20-122.427803%5D%2C%20%5B42.987320000000004%2C%20-83.783272%5D%2C%20%5B33.806923%2C%20-117.906815%5D%2C%20%5B40.577431%2C%20-75.798019%5D%2C%20%5B36.152145000000004%2C%20-86.691238%5D%2C%20%5B35.404204%2C%20-79.575223%5D%2C%20%5B34.271084%2C%20-119.275574%5D%2C%20%5B31.728679999999997%2C%20-106.30532099999999%5D%2C%20%5B40.054764%2C%20-74.167625%5D%2C%20%5B41.995358%2C%20-88.144791%5D%2C%20%5B42.363873%2C%20-83.55995899999999%5D%2C%20%5B42.320591%2C%20-83.73925799999999%5D%2C%20%5B33.979038%2C%20-118.459099%5D%2C%20%5B34.0355%2C%20-118.170143%5D%2C%20%5B33.395645%2C%20-81.987236%5D%2C%20%5B40.628014%2C%20-111.889923%5D%2C%20%5B34.03029%2C%20-117.70199%5D%2C%20%5B39.76895%2C%20-104.79989%5D%2C%20%5B37.357535%2C%20-113.264859%5D%2C%20%5B29.948824%2C%20-95.416687%5D%2C%20%5B37.665127000000005%2C%20-121.732872%5D%2C%20%5B30.67223%2C%20-87.85205%5D%2C%20%5B41.108538%2C%20-73.40652%5D%2C%20%5B39.342534%2C%20-119.42576299999999%5D%2C%20%5B39.195370000000004%2C%20-76.63217%5D%2C%20%5B34.234842%2C%20-118.29093200000001%5D%2C%20%5B43.003315%2C%20-83.748947%5D%2C%20%5B33.467620000000004%2C%20-112.11077%5D%2C%20%5B33.756657000000004%2C%20-118.019341%5D%2C%20%5B40.775859999999994%2C%20-111.91068999999999%5D%5D%2C%0A%20%20%20%20%20%20%20%20%20%20%20%20%20%20%20%20%7B%0A%20%20%20%20%20%20%20%20%20%20%20%20%20%20%20%20%20%20%20%20minOpacity%3A%200.5%2C%0A%20%20%20%20%20%20%20%20%20%20%20%20%20%20%20%20%20%20%20%20maxZoom%3A%2018%2C%0A%20%20%20%20%20%20%20%20%20%20%20%20%20%20%20%20%20%20%20%20max%3A%201.0%2C%0A%20%20%20%20%20%20%20%20%20%20%20%20%20%20%20%20%20%20%20%20radius%3A%2025%2C%0A%20%20%20%20%20%20%20%20%20%20%20%20%20%20%20%20%20%20%20%20blur%3A%2015%2C%0A%20%20%20%20%20%20%20%20%20%20%20%20%20%20%20%20%20%20%20%20gradient%3A%20null%0A%20%20%20%20%20%20%20%20%20%20%20%20%20%20%20%20%20%20%20%20%7D%29%0A%20%20%20%20%20%20%20%20%20%20%20%20%20%20%20%20.addTo%28map_fb2fc888182041b0bb31c2abf26c581f%29%3B%0A%20%20%20%20%20%20%20%20%0A%3C/script%3E onload=\"this.contentDocument.open();this.contentDocument.write(    decodeURIComponent(this.getAttribute('data-html')));this.contentDocument.close();\" allowfullscreen webkitallowfullscreen mozallowfullscreen></iframe></div></div>"
            ],
            "text/plain": [
              "<folium.folium.Map at 0x7fee97d79310>"
            ]
          },
          "metadata": {
            "tags": []
          },
          "execution_count": 80
        }
      ]
    },
    {
      "cell_type": "code",
      "metadata": {
        "id": "HqRhqHguugHG"
      },
      "source": [
        ""
      ],
      "execution_count": null,
      "outputs": []
    },
    {
      "cell_type": "markdown",
      "metadata": {
        "id": "sQGk7K7Nh-zQ"
      },
      "source": [
        "\r\n",
        "\r\n",
        "\r\n"
      ]
    },
    {
      "cell_type": "code",
      "metadata": {
        "id": "TdkElIA8czQE"
      },
      "source": [
        "import jovian"
      ],
      "execution_count": 80,
      "outputs": []
    },
    {
      "cell_type": "code",
      "metadata": {
        "colab": {
          "base_uri": "https://localhost:8080/",
          "height": 139
        },
        "id": "OyHY92I_c4ck",
        "outputId": "cb2a18aa-8ef8-4ae0-aece-cccde84ec414"
      },
      "source": [
        "jovian.commit()"
      ],
      "execution_count": 81,
      "outputs": [
        {
          "output_type": "stream",
          "text": [
            "[jovian] Detected Colab notebook...\u001b[0m\n",
            "[jovian] Please enter your API key ( from https://jovian.ai/ ):\u001b[0m\n",
            "API KEY: ··········\n",
            "[jovian] Uploading colab notebook to Jovian...\u001b[0m\n",
            "[jovian] Capturing environment..\u001b[0m\n",
            "[jovian] Committed successfully! https://jovian.ai/vijays9718/us-accidents\u001b[0m\n"
          ],
          "name": "stdout"
        },
        {
          "output_type": "execute_result",
          "data": {
            "application/vnd.google.colaboratory.intrinsic+json": {
              "type": "string"
            },
            "text/plain": [
              "'https://jovian.ai/vijays9718/us-accidents'"
            ]
          },
          "metadata": {
            "tags": []
          },
          "execution_count": 81
        }
      ]
    }
  ]
}